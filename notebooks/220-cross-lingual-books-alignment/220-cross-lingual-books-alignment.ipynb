{
 "cells": [
  {
   "cell_type": "markdown",
   "id": "7ae282b9-2041-4594-b10a-845f9a4f0382",
   "metadata": {},
   "source": [
    "# Cross-lingual Books Alignment With Transformers and Something OpenVINO™\n",
    "\n",
    "Pipeline:\n",
    "1. Get text for alignment\n",
    "1. Clean text\n",
    "1. Split text into sentences\n",
    "1. Get sentence embeddings\n",
    "1. Calculate sentence similarity\n",
    "1. Transform similarity into alignment"
   ]
  },
  {
   "cell_type": "code",
   "execution_count": null,
   "id": "c45a2e19-7983-4daa-805c-e632a9d672fb",
   "metadata": {},
   "outputs": [],
   "source": [
    "!pip install -q gutenbergpy pysbd transformers optimum[openvino,nncf] seaborn"
   ]
  },
  {
   "cell_type": "markdown",
   "id": "34ddf5a3-f647-4229-8e45-ac988ee094ae",
   "metadata": {},
   "source": [
    "## Get The Books\n",
    "\n",
    "First step is to get books that we will be working with. For this notebook we will use english and german versions of Anna Karenina by Leo Tolstoy. The texts can be obtained from [Project Gutenberg site](https://www.gutenberg.org/). Since the copyright laws are complicated and differ from country to country, check if the book is legal to obtain in your country. You can start with Project Gutenberg Permissions, Licensing and other Common Requests [page](https://www.gutenberg.org/policy/permission.html).\n",
    "\n",
    "First one needs to find a books on a Project Gutenberg [search page](https://www.gutenberg.org/ebooks/) and get the each book id. To get the texts we will pass ids to the `gutenbergpy` library."
   ]
  },
  {
   "cell_type": "code",
   "execution_count": null,
   "id": "8a05a1b9-bf9f-4aa1-b452-c9dd6e46c87f",
   "metadata": {
    "tags": []
   },
   "outputs": [],
   "source": [
    "from gutenbergpy.textget import get_text_by_id, strip_headers\n",
    "\n",
    "\n",
    "def get_book(book_id: int) -> str:\n",
    "    raw_text = get_text_by_id(book_id)\n",
    "    cleaned_text = strip_headers(raw_text)\n",
    "    return cleaned_text.decode().strip()\n",
    "\n",
    "\n",
    "en_book_id = 1399\n",
    "de_book_id = 44956\n",
    "\n",
    "anna_karenina_en = get_book(en_book_id)\n",
    "anna_karenina_de = get_book(de_book_id)"
   ]
  },
  {
   "cell_type": "markdown",
   "id": "1b555a2c-2247-4906-bf90-f7bdd17e902a",
   "metadata": {},
   "source": [
    "If you have a timeout or any other issue downloading the books with `gutenbergpy`, the books can be downloaded directly from site:\n",
    "1. Go to the Project Gutenberg [search page](https://www.gutenberg.org/ebooks/)\n",
    "1. Search for the book by its id: 1399 for english book, 44956 for german book\n",
    "1. Go to the book text and choose `Plain Text UTF-8` format\n",
    "1. Save the book to disk by `Right-Click` -> `Save As...` or press `Ctrl+S`\n",
    "1. Upload files to the Jupyter with the `Upload Files` button\n",
    "\n",
    "TODO: add screenshot with `Upload Files` button"
   ]
  },
  {
   "cell_type": "code",
   "execution_count": 35,
   "id": "084eb46b-504e-4560-97e3-3122a2f91408",
   "metadata": {},
   "outputs": [],
   "source": [
    "def get_book_by_path(path: str) -> str:\n",
    "    with open(path, \"rb\") as book:\n",
    "        raw_text = book.read()\n",
    "    cleaned_text = strip_headers(raw_text)\n",
    "    return cleaned_text.decode().strip()\n",
    "\n",
    "\n",
    "en_book_path = \"gutenberg.org_cache_epub_1399_pg1399.txt\"\n",
    "de_book_path = \"gutenberg.org_cache_epub_44956_pg44956.txt\"\n",
    "\n",
    "anna_karenina_en = get_book_by_path(en_book_path)\n",
    "anna_karenina_de = get_book_by_path(de_book_path)"
   ]
  },
  {
   "cell_type": "code",
   "execution_count": 3,
   "id": "d1419b6e-2c73-4627-a713-ffdce236b70f",
   "metadata": {},
   "outputs": [
    {
     "data": {
      "text/plain": [
       "'[Illustration]\\n\\n\\n\\n\\n ANNA KARENINA \\n\\n by Leo Tolstoy \\n\\n Translated by Constance Garnett \\n\\nContents\\n\\n\\n PART ONE\\n PART TWO\\n PART THREE\\n PART FOUR\\n PART FIVE\\n PART SIX\\n PART SEVEN\\n PART EIGHT\\n\\n\\n\\n\\nPART ONE\\n\\nChapter 1\\n\\n\\nHappy families are all alike; every unhappy family is unhappy in its\\nown way.\\n\\nEveryth'"
      ]
     },
     "execution_count": 3,
     "metadata": {},
     "output_type": "execute_result"
    }
   ],
   "source": [
    "anna_karenina_en[:300]"
   ]
  },
  {
   "cell_type": "code",
   "execution_count": 4,
   "id": "2727e361-e578-4ade-b81f-c33cfa593899",
   "metadata": {},
   "outputs": [
    {
     "data": {
      "text/plain": [
       "'Online Distributed Proofreading Team at http://www.pgdp.net\\n\\n\\n\\n\\n\\n\\n\\n\\n\\n                             Anna Karenina.\\n\\n\\n                        Roman aus dem Russischen\\n\\n                                  des\\n\\n                         Grafen Leo N. Tolstoi.\\n\\n\\n\\n                  Nach der siebenten Auflage übersetzt\\n\\n                                  von\\n\\n                              Hans Moser.\\n\\n\\n                              Erster Band.\\n\\n\\n\\n                                Leipzig\\n\\n                Druck und Verlag von Philipp Reclam jun.\\n\\n                   *       *       *       *       *\\n\\n\\n\\n\\n                              Erster Teil.\\n\\n                               »Die Rache ist mein, ich will vergelten.«\\n\\n                                   1.\\n\\n\\nAlle glücklichen Familien sind einander ähnlich; jede unglückliche\\nFamilie ist auf _ihre_ Weise unglücklich. --\\n\\nIm Hause der Oblonskiy herrschte allgemeine Verwirrung. Die Dame des\\nHauses hatte in Erfahrung gebracht, daß ihr Gatte mit der im Hau'"
      ]
     },
     "execution_count": 4,
     "metadata": {},
     "output_type": "execute_result"
    }
   ],
   "source": [
    "anna_karenina_de[:1000]"
   ]
  },
  {
   "cell_type": "markdown",
   "id": "37c1ebc5-977b-4580-873b-9c936bb87963",
   "metadata": {},
   "source": [
    "## Clean Text\n",
    "\n",
    "If you open the downloaded books, you'll see that there are some service information before and after actual text. There are different formatting styles and some markup, for example when the author uses prases from different language, this phrases are enclosed with the underscores (probably to italisize such phrases):\n",
    "\n",
    ">  Yes, Alabin was giving a dinner on glass tables, and the\n",
    "tables sang, _Il mio tesoro_—not _Il mio tesoro_ though, but something\n",
    "better, and there were some sort of little decanters on the table, and\n",
    "they were women, too,” he remembered.\n",
    "\n",
    "It will be hard to execute next pipeline stages without clining and text normalization. The particular formating might differ from case to case, so this stage requires manual work. For example, the actual content in german version is enclosed in `*       *       *       *       *`, so it is safe to remove everything before the first and after last astrics.\n",
    "\n",
    "For this notebook we will get just the first chapter."
   ]
  },
  {
   "cell_type": "code",
   "execution_count": 5,
   "id": "71f0665f-7009-4da0-b97b-cb3f45893a44",
   "metadata": {},
   "outputs": [],
   "source": [
    "import re\n",
    "\n",
    "\n",
    "chapter_pattern_en = r\"Chapter \\d?\\d\"\n",
    "chapter_1_en = re.split(chapter_pattern_en, anna_karenina_en)[1].strip()"
   ]
  },
  {
   "cell_type": "code",
   "execution_count": 6,
   "id": "bb87955f-7c61-47db-a255-3005ed72f1bd",
   "metadata": {},
   "outputs": [],
   "source": [
    "chapter_pattern_de = r\"\\d?\\d.\\n\\n\"\n",
    "chapter_1_de = re.split(chapter_pattern_de, anna_karenina_de)[1].strip()"
   ]
  },
  {
   "cell_type": "code",
   "execution_count": 7,
   "id": "6ad2e38c-0050-4f9f-ad3d-f860ea636620",
   "metadata": {},
   "outputs": [],
   "source": [
    "def remove_single_newline(text: str) -> str:\n",
    "    return re.sub(r\"\\n(?!\\n)\", \" \", text)\n",
    "\n",
    "chapter_1_en = remove_single_newline(chapter_1_en)\n",
    "chapter_1_de = remove_single_newline(chapter_1_de)"
   ]
  },
  {
   "cell_type": "code",
   "execution_count": 8,
   "id": "3f1cca61-e6ab-486b-8176-2d452fb47551",
   "metadata": {},
   "outputs": [],
   "source": [
    "def unify_quotes(text: str) -> str:\n",
    "    return re.sub(r\"['\\\"»«“”]\", '\"', text)\n",
    "\n",
    "\n",
    "chapter_1_en = unify_quotes(chapter_1_en)\n",
    "chapter_1_de = unify_quotes(chapter_1_de)"
   ]
  },
  {
   "cell_type": "code",
   "execution_count": 9,
   "id": "7fa07587-7799-4215-af99-f29dc6c037f4",
   "metadata": {},
   "outputs": [],
   "source": [
    "def remove_markup(text:str) -> str:\n",
    "    text = text.replace(\">=\", \"\").replace(\"=<\", \"\")\n",
    "    return re.sub(r\"_\\w|\\w_\", \"\", text)\n",
    "\n",
    "\n",
    "chapter_1_en = remove_markup(chapter_1_en)\n",
    "chapter_1_de = remove_markup(chapter_1_de)"
   ]
  },
  {
   "cell_type": "markdown",
   "id": "6c02fd99-d3c3-4301-9f3f-5f3a9babac8a",
   "metadata": {},
   "source": [
    "## Split Text"
   ]
  },
  {
   "cell_type": "code",
   "execution_count": 10,
   "id": "6e2bcac2-91f2-43d5-b690-7be4fb453578",
   "metadata": {},
   "outputs": [],
   "source": [
    "import pysbd\n",
    "\n",
    "\n",
    "splitter_en = pysbd.Segmenter(language=\"en\", clean=True)\n",
    "sentences_en = splitter_en.segment(chapter_1_en)"
   ]
  },
  {
   "cell_type": "code",
   "execution_count": 11,
   "id": "c46074b0-3935-402a-b108-1484e1785b47",
   "metadata": {},
   "outputs": [],
   "source": [
    "splitter_de = pysbd.Segmenter(language=\"de\", clean=True)\n",
    "sentences_de = splitter_de.segment(chapter_1_de)"
   ]
  },
  {
   "cell_type": "code",
   "execution_count": 12,
   "id": "f12610f3-743d-4334-ade9-f55a952060b0",
   "metadata": {},
   "outputs": [
    {
     "data": {
      "text/plain": [
       "(32, 34)"
      ]
     },
     "execution_count": 12,
     "metadata": {},
     "output_type": "execute_result"
    }
   ],
   "source": [
    "len(sentences_en), len(sentences_de)"
   ]
  },
  {
   "cell_type": "markdown",
   "id": "b4264e86-6524-4f95-bb5d-e0498b55dad0",
   "metadata": {},
   "source": [
    "## Get Text Embeddings"
   ]
  },
  {
   "cell_type": "code",
   "execution_count": 13,
   "id": "999759e2-cddf-40a0-a3b5-e453882f7e77",
   "metadata": {},
   "outputs": [
    {
     "name": "stderr",
     "output_type": "stream",
     "text": [
      "2023-06-15 13:09:22.625086: I tensorflow/core/util/util.cc:169] oneDNN custom operations are on. You may see slightly different numerical results due to floating-point round-off errors from different computation orders. To turn them off, set the environment variable `TF_ENABLE_ONEDNN_OPTS=0`.\n",
      "2023-06-15 13:09:22.628390: W tensorflow/stream_executor/platform/default/dso_loader.cc:64] Could not load dynamic library 'libcudart.so.11.0'; dlerror: libcudart.so.11.0: cannot open shared object file: No such file or directory\n",
      "2023-06-15 13:09:22.628401: I tensorflow/stream_executor/cuda/cudart_stub.cc:29] Ignore above cudart dlerror if you do not have a GPU set up on your machine.\n"
     ]
    },
    {
     "name": "stdout",
     "output_type": "stream",
     "text": [
      "INFO:nncf:NNCF initialized successfully. Supported frameworks detected: torch, tensorflow, onnx, openvino\n"
     ]
    },
    {
     "name": "stderr",
     "output_type": "stream",
     "text": [
      "Framework not specified. Using pt to export to ONNX.\n",
      "Using framework PyTorch: 1.13.1+cpu\n",
      "Overriding 1 configuration item(s)\n",
      "\t- use_cache -> False\n",
      "Compiling the model...\n"
     ]
    }
   ],
   "source": [
    "from optimum.intel import OVModelForFeatureExtraction\n",
    "from transformers import AutoTokenizer\n",
    "from tqdm.auto import tqdm\n",
    "import numpy as np\n",
    "\n",
    "\n",
    "model_id = \"rasa/LaBSE\"\n",
    "model = OVModelForFeatureExtraction.from_pretrained(model_id, export=True)\n",
    "tokenizer = AutoTokenizer.from_pretrained(model_id)"
   ]
  },
  {
   "cell_type": "code",
   "execution_count": 14,
   "id": "83fa560e-9e62-46ea-b755-c2cff01e22b7",
   "metadata": {},
   "outputs": [
    {
     "data": {
      "application/vnd.jupyter.widget-view+json": {
       "model_id": "1e9b18bff911427e83228d4f90aa7c60",
       "version_major": 2,
       "version_minor": 0
      },
      "text/plain": [
       "  0%|          | 0/32 [00:00<?, ?it/s]"
      ]
     },
     "metadata": {},
     "output_type": "display_data"
    },
    {
     "data": {
      "application/vnd.jupyter.widget-view+json": {
       "model_id": "d65ece88fd5e4c5d834eac6893b09408",
       "version_major": 2,
       "version_minor": 0
      },
      "text/plain": [
       "  0%|          | 0/34 [00:00<?, ?it/s]"
      ]
     },
     "metadata": {},
     "output_type": "display_data"
    }
   ],
   "source": [
    "def get_embeddings(sentences):\n",
    "    embeddings = [\n",
    "        model(**tokenizer(sent, return_tensors=\"np\")).last_hidden_state[0, 0]\n",
    "        for sent in tqdm(sentences)\n",
    "    ]\n",
    "    return np.vstack(embeddings)\n",
    "\n",
    "\n",
    "embeddings_en = get_embeddings(sentences_en)\n",
    "embeddings_de = get_embeddings(sentences_de)"
   ]
  },
  {
   "cell_type": "markdown",
   "id": "462735e3-ec90-4746-a0e5-9242ac0b6f90",
   "metadata": {},
   "source": [
    "## Calculate Sentence Similarity"
   ]
  },
  {
   "cell_type": "code",
   "execution_count": 29,
   "id": "3c90120e-2ea4-40ee-ae6a-02dfca19bfaf",
   "metadata": {},
   "outputs": [
    {
     "data": {
      "text/plain": [
       "Text(102.37222222222219, 0.5, 'English')"
      ]
     },
     "execution_count": 29,
     "metadata": {},
     "output_type": "execute_result"
    },
    {
     "data": {
      "image/png": "[encoded data removed]",
      "text/plain": [
       "<Figure size 640x480 with 1 Axes>"
      ]
     },
     "metadata": {},
     "output_type": "display_data"
    }
   ],
   "source": [
    "import seaborn as sns\n",
    "\n",
    "\n",
    "def softmax_stable(x):\n",
    "    x = x - np.max(x)\n",
    "    exp = np.exp(x)\n",
    "    return exp / exp.sum()\n",
    "\n",
    "\n",
    "similarity = embeddings_en @ embeddings_de.T\n",
    "softmax_en_to_de = np.apply_along_axis(softmax_stable, -1, similarity)\n",
    "softmax_de_to_en = np.apply_along_axis(softmax_stable, -2, similarity)\n",
    "\n",
    "threshold = 1e-20\n",
    "softmax_inter = (softmax_en_to_de > threshold) * (softmax_de_to_en > threshold)\n",
    "\n",
    "plot = sns.heatmap(softmax_inter, cbar=False, square=True)\n",
    "plot.set_title(\"Sentence Similarity\")\n",
    "plot.set_xlabel(\"German\")\n",
    "plot.set_ylabel(\"English\")"
   ]
  },
  {
   "cell_type": "markdown",
   "id": "80b67552-18d8-4e08-817a-524c02fd7228",
   "metadata": {},
   "source": [
    "## Transform Similarity To Alignment"
   ]
  },
  {
   "cell_type": "code",
   "execution_count": 16,
   "id": "eefd16c7-f732-45fa-89f6-2c4f8eccb01a",
   "metadata": {},
   "outputs": [],
   "source": [
    "aligned = {idx: [] for idx, sent in enumerate(sentences_en)}\n",
    "\n",
    "for en_idx, de_idx in zip(*np.nonzero(softmax_inter)):\n",
    "    aligned[en_idx].append(de_idx)"
   ]
  },
  {
   "cell_type": "code",
   "execution_count": 36,
   "id": "e682adac-48ce-487c-8842-7a31e9515abe",
   "metadata": {},
   "outputs": [],
   "source": [
    "from IPython.display import display, HTML\n",
    "from itertools import zip_longest\n",
    "from collections import defaultdict\n",
    "\n",
    "def create_interactive_table(list1, list2, mapping):\n",
    "\n",
    "    def inverse_mapping(mapping):\n",
    "        result = defaultdict(list)\n",
    "        for key, values in mapping.items():\n",
    "            for value in values:\n",
    "                result[value].append(key)\n",
    "        return dict(result)\n",
    "    \n",
    "    \n",
    "    inversed_mapping = inverse_mapping(mapping)\n",
    "    \n",
    "    table_html = '<table id=\"mappings-table\"><tr><th>Sentences EN</th><th>Sentences DE</th></tr>'\n",
    "\n",
    "    for i, (first, second) in enumerate(zip_longest(list1, list2)):\n",
    "        table_html += \"<tr>\"\n",
    "        if i < len(list1):\n",
    "            table_html += f'<td id=\"list1-{i}\">{first}</td>'\n",
    "        else:\n",
    "            table_html += \"<td></td>\"\n",
    "        if i < len(list2):\n",
    "            table_html += f'<td id=\"list2-{i}\">{second}</td>'\n",
    "        else:\n",
    "            table_html += \"<td></td>\"\n",
    "        table_html += \"</tr>\"\n",
    "\n",
    "    table_html += \"</table>\"\n",
    "\n",
    "    hover_script = \"\"\"\n",
    "    <script>\n",
    "      const highlightColor = '#f0f0f0';\n",
    "      const mappings = {\n",
    "        'list1': \"\"\" + str(mapping) + \"\"\",\n",
    "        'list2': \"\"\" + str(inversed_mapping) + \"\"\"\n",
    "      };\n",
    "\n",
    "      const table = document.getElementById('mappings-table');\n",
    "      let highlightedIds = [];\n",
    "\n",
    "      table.addEventListener('mouseover', ({ target }) => {\n",
    "        if (target.tagName !== 'TD' || !target.id) {\n",
    "          return;\n",
    "        }\n",
    "\n",
    "        const [listName, listId] = target.id.split('-');\n",
    "        const mappedIds = mappings[listName][listId].map((id) => `${listName === 'list1' ? 'list2' : 'list1'}-${id}`);\n",
    "        const idsToHighlight = [target.id, ...mappedIds];\n",
    "\n",
    "        setBackgroud(idsToHighlight, highlightColor);\n",
    "        highlightedIds = idsToHighlight;\n",
    "      });\n",
    "\n",
    "      table.addEventListener('mouseout', () => setBackgroud(highlightedIds, ''));\n",
    "\n",
    "      function setBackgroud(ids, color) {\n",
    "        ids.forEach((id) => (document.getElementById(id).style.backgroundColor = color));\n",
    "      }\n",
    "    </script>\n",
    "    \"\"\"\n",
    "    return table_html + hover_script"
   ]
  },
  {
   "cell_type": "code",
   "execution_count": 37,
   "id": "bb0f070e-8f43-41af-8236-2ffc31fa04ea",
   "metadata": {},
   "outputs": [
    {
     "data": {
      "text/plain": [
       "'<table id=\"mappings-table\"><tr><th>Sentences EN</th><th>Sentences DE</th></tr><tr><td id=\"list1-0\">Happy families are all alike; every unhappy family is unhappy in its own way.</td><td id=\"list2-0\">Alle glücklichen Familien sind einander ähnlich; jede unglückliche Familie ist auf hr Weise unglücklich.</td></tr><tr><td id=\"list1-1\">Everything was in confusion in the Oblonskys’ house.</td><td id=\"list2-1\">--</td></tr><tr><td id=\"list1-2\">The wife had discovered that the husband was carrying on an intrigue with a French girl, who had been a governess in their family, and she had announced to her husband that she could not go on living in the same house with him.</td><td id=\"list2-2\">Im Hause der Oblonskiy herrschte allgemeine Verwirrung.</td></tr><tr><td id=\"list1-3\">This position of affairs had now lasted three days, and not only the husband and wife themselves, but all the members of their family and household, were painfully conscious of it.</td><td id=\"list2-3\">Die Dame des Hauses hatte in Erfahrung gebracht, daß ihr Gatte mit der im Hause gewesenen französischen Gouvernante ein Verhältnis unterhalten, und ihm erklärt, sie könne fürderhin nicht mehr mit ihm unter einem Dache bleiben.</td></tr><tr><td id=\"list1-4\">Every person in the house felt that there was no sense in their living together, and that the stray people brought together by chance in any inn had more in common with one another than they, the members of the family and household of the Oblonskys.</td><td id=\"list2-4\">Diese Situation währte bereits seit drei Tagen und sie wurde nicht allein von den beiden Ehegatten selbst, nein auch von allen Familienmitgliedern und dem Personal aufs Peinlichste empfunden.</td></tr><tr><td id=\"list1-5\">The wife did not leave her own room, the husband had not been at home for three days.</td><td id=\"list2-5\">Sie alle fühlten, daß in ihrem Zusammenleben kein höherer Gedanke mehr liege, daß die Leute, welche auf jeder Poststation sich zufällig träfen, noch enger zu einander gehörten, als sie, die Glieder der Familie selbst, und das im Hause geborene und aufgewachsene Gesinde der Oblonskiy.</td></tr><tr><td id=\"list1-6\">The children ran wild all over the house; the English governess quarreled with the housekeeper, and wrote to a friend asking her to look out for a new situation for her; the man-cook had walked off the day before just at dinner time; the kitchen-maid, and the coachman had given warning.</td><td id=\"list2-6\">Die Herrin des Hauses verließ ihre Gemächer nicht, der Gebieter war schon seit drei Tagen abwesend.</td></tr><tr><td id=\"list1-7\">Three days after the quarrel, Prince Stepan Arkadyevitch Oblonsky—Stiva, as he was called in the fashionable world—woke up at his usual hour, that is, at eight o’clock in the morning, not in his wife’s bedroom, but on the leather-covered sofa in his study.</td><td id=\"list2-7\">Die Kinder liefen wie verwaist im ganzen Hause umher, die Engländerin schalt auf die Wirtschafterin und schrieb an eine Freundin, diese möchte ihr eine neue Stellung verschaffen, der Koch hatte bereits seit gestern um die Mittagszeit das Haus verlassen und die Köchin, sowie der Kutscher hatten ihre Rechnungen eingereicht.</td></tr><tr><td id=\"list1-8\">He turned over his stout, well-cared-for person on the springy sofa, as though he would sink into a long sleep again; he vigorously embraced the pillow on the other side and buried his face in it; but all at once he jumped up, sat up on the sofa, and opened his eyes.</td><td id=\"list2-8\">Am dritten Tage nach der Scene erwachte der Fürst Stefan Arkadjewitsch Oblonskiy -- Stiwa hieß er in der Welt -- um die gewöhnliche Stunde, das heißt um acht Uhr morgens, aber nicht im Schlafzimmer seiner Gattin, sondern in seinem Kabinett auf dem Saffiandiwan.</td></tr><tr><td id=\"list1-9\">\"Yes, yes, how was it now?\" he thought, going over his dream.</td><td id=\"list2-9\">Er wandte seinen vollen verweichlichten Leib auf den Sprungfedern des Diwans, als wünsche er noch weiter zu schlafen, während er von der andern Seite innig ein Kissen umfaßte und an die Wange drückte.</td></tr><tr><td id=\"list1-10\">\"Now, how was it? To be sure! Alabin was giving a dinner at Darmstadt; no, not Darmstadt, but something American. Yes, but then, Darmstadt was in America. Yes, Alabin was giving a dinner on glass tables, and the tables sang, l mio tesor—not l mio tesor though, but something better, and there were some sort of little decanters on the table, and they were women, too,\" he remembered.</td><td id=\"list2-10\">Plötzlich aber sprang er empor, setzte sich aufrecht und öffnete die Augen.</td></tr><tr><td id=\"list1-11\">Stepan Arkadyevitch’s eyes twinkled gaily, and he pondered with a smile.</td><td id=\"list2-11\">\"Ja, ja, wie war doch das?\" sann er, über seinem Traum grübelnd.</td></tr><tr><td id=\"list1-12\">\"Yes, it was nice, very nice. There was a great deal more that was delightful, only there’s no putting it into words, or even expressing it in one’s thoughts awake.\"</td><td id=\"list2-12\">\"Wie war doch das?</td></tr><tr><td id=\"list1-13\">And noticing a gleam of light peeping in beside one of the serge curtains, he cheerfully dropped his feet over the edge of the sofa, and felt about with them for his slippers, a present on his last birthday, worked for him by his wife on gold-colored morocco.</td><td id=\"list2-13\">Richtig; Alabin gab ein Diner in Darmstadt; nein, nicht in Darmstadt, es war so etwas Amerikanisches dabei.</td></tr><tr><td id=\"list1-14\">And, as he had done every day for the last nine years, he stretched out his hand, without getting up, towards the place where his dressing-gown always hung in his bedroom.</td><td id=\"list2-14\">Dieses Darmstadt war aber in Amerika, ja, und Alabin gab das Essen auf gläsernen Tischen, ja, und die Tische sangen: Il mio tesoro -- oder nicht so, es war etwas Besseres, und gewisse kleine Karaffen, wie Frauenzimmer aussehend,\" -- fiel ihm ein.</td></tr><tr><td id=\"list1-15\">And thereupon he suddenly remembered that he was not sleeping in his wife’s room, but in his study, and why: the smile vanished from his face, he knitted his brows.</td><td id=\"list2-15\">Die Augen Stefan Arkadjewitschs blitzten heiter, er sann und lächelte.</td></tr><tr><td id=\"list1-16\">\"Ah, ah, ah! Oo!...\" he muttered, recalling everything that had happened.</td><td id=\"list2-16\">\"Ja, es war hübsch, sehr hübsch. Es gab viel Ausgezeichnetes dabei, was man mit Worten nicht schildern könnte und in Gedanken nicht ausdrücken.\"</td></tr><tr><td id=\"list1-17\">And again every detail of his quarrel with his wife was present to his imagination, all the hopelessness of his position, and worst of all, his own fault.</td><td id=\"list2-17\">Er bemerkte einen Lichtstreif, der sich von der Seite durch die baumwollenen Stores gestohlen hatte und schnellte lustig mit den Füßen vom Sofa, um mit ihnen die von seiner Gattin ihm im vorigen Jahr zum Geburtstag verehrten gold- und saffiangestickten Pantoffeln zu suchen; während er, einer alten neunjährigen Gewohnheit folgend, ohne aufzustehen mit der Hand nach der Stelle fuhr, wo in dem Schlafzimmer sonst sein Morgenrock zu hängen pflegte.</td></tr><tr><td id=\"list1-18\">\"Yes, she won’t forgive me, and she can’t forgive me. And the most awful thing about it is that it’s all my fault—all my fault, though I’m not to blame. That’s the point of the whole situation,\" he reflected.</td><td id=\"list2-18\">Hierbei erst kam er zur Besinnung; er entsann sich jäh wie es kam, daß er nicht im Schlafgemach seiner Gattin, sondern in dem Kabinett schlief; das Lächeln verschwand von seinen Zügen und er runzelte die Stirn.</td></tr><tr><td id=\"list1-19\">\"Oh, oh, oh!\" he kept repeating in despair, as he remembered the acutely painful sensations caused him by this quarrel.</td><td id=\"list2-19\">\"O, o, o, ach,\" brach er jammernd aus, indem ihm alles wieder einfiel, was vorgefallen war.</td></tr><tr><td id=\"list1-20\">Most unpleasant of all was the first minute when, on coming, happy and good-humored, from the theater, with a huge pear in his hand for his wife, he had not found his wife in the drawing-room, to his surprise had not found her in the study either, and saw her at last in her bedroom with the unlucky letter that revealed everything in her hand.</td><td id=\"list2-20\">Vor seinem Innern erstanden von neuem alle die Einzelheiten des Auftritts mit seiner Frau, erstand die ganze Mißlichkeit seiner Lage und -- was ihm am peinlichsten war -- seine eigene Schuld.</td></tr><tr><td id=\"list1-21\">She, his Dolly, forever fussing and worrying over household details, and limited in her ideas, as he considered, was sitting perfectly still with the letter in her hand, looking at him with an expression of horror, despair, and indignation.</td><td id=\"list2-21\">\"Ja wohl, sie wird nicht verzeihen, sie kann nicht verzeihen, und am Schrecklichsten ist, daß die Schuld an allem nur ich selbst trage -- ich bin schuld -- aber nicht schuldig!</td></tr><tr><td id=\"list1-22\">\"What’s this? this?\" she asked, pointing to the letter.</td><td id=\"list2-22\">Und hierin liegt das ganze Drama,\" dachte er, \"o weh, o weh!\"</td></tr><tr><td id=\"list1-23\">And at this recollection, Stepan Arkadyevitch, as is so often the case, was not so much annoyed at the fact itself as at the way in which he had met his wife’s words.</td><td id=\"list2-23\">Er sprach voller Verzweiflung, indem er sich alle die tiefen Eindrücke vergegenwärtigte, die er in jener Scene erhalten.</td></tr><tr><td id=\"list1-24\">There happened to him at that instant what does happen to people when they are unexpectedly caught in something very disgraceful.</td><td id=\"list2-24\">Am unerquicklichsten war ihm jene erste Minute gewesen, da er, heiter und zufrieden aus dem Theater heimkehrend, eine ungeheure Birne für seine Frau in der Hand, diese weder im Salon noch im Kabinett fand, und sie endlich im Schlafzimmer antraf, jenen unglückseligen Brief, der alles entdeckte, in den Händen.</td></tr><tr><td id=\"list1-25\">He did not succeed in adapting his face to the position in which he was placed towards his wife by the discovery of his fault.</td><td id=\"list2-25\">Sie, die er für die ewig sorgende, ewig sich mühende, allgegenwärtige Dolly gehalten, sie saß jetzt regungslos, den Brief in der Hand, mit dem Ausdruck des Entsetzens, der Verzweiflung und der Wut ihm entgegenblickend.</td></tr><tr><td id=\"list1-26\">Instead of being hurt, denying, defending himself, begging forgiveness, instead of remaining indifferent even—anything would have been better than what he did do—his face utterly involuntarily (reflex spinal action, reflected Stepan Arkadyevitch, who was fond of physiology)—utterly involuntarily assumed its habitual, good-humored, and therefore idiotic smile.</td><td id=\"list2-26\">\"Was ist das?\" frug sie ihn, auf das Schreiben weisend, und in der Erinnerung hieran quälte ihn, wie das oft zu geschehen pflegt, nicht sowohl der Vorfall selbst, als die Art, wie er ihr auf diese Worte geantwortet hatte.</td></tr><tr><td id=\"list1-27\">This idiotic smile he could not forgive himself.</td><td id=\"list2-27\">Es ging ihm in diesem Augenblick, wie den meisten Menschen, wenn sie unerwartet eines zu schmählichen Vergehens überführt werden.</td></tr><tr><td id=\"list1-28\">Catching sight of that smile, Dolly shuddered as though at physical pain, broke out with her characteristic heat into a flood of cruel words, and rushed out of the room.</td><td id=\"list2-28\">Er verstand nicht, sein Gesicht der Situation anzupassen, in welche er nach der Entdeckung seiner Schuld geraten war, und anstatt den Gekränkten zu spielen, sich zu verteidigen, sich zu rechtfertigen und um Verzeihung zu bitten oder wenigstens gleichmütig zu bleiben -- alles dies wäre noch besser gewesen als das, was er wirklich that -- verzogen sich seine Mienen (\"Gehirnreflexe\" dachte Stefan Arkadjewitsch, als Liebhaber von Physiologie) unwillkürlich und plötzlich zu seinem gewohnten, gutmütigen und daher ziemlich einfältigen Lächeln.</td></tr><tr><td id=\"list1-29\">Since then she had refused to see her husband.</td><td id=\"list2-29\">Dieses dumme Lächeln konnte er sich selbst nicht vergeben.</td></tr><tr><td id=\"list1-30\">\"It’s that idiotic smile that’s to blame for it all,\" thought Stepan Arkadyevitch.</td><td id=\"list2-30\">Als Dolly es gewahrt hatte, erbebte sie, wie von einem physischen Schmerz, und erging sich dann mit der ihr eigenen Leidenschaftlichkeit in einem Strom bitterer Worte, worauf sie das Gemach verließ.</td></tr><tr><td id=\"list1-31\">\"But what’s to be done? What’s to be done?\" he said to himself in despair, and found no answer.</td><td id=\"list2-31\">Von dieser Zeit an wollte sie ihren Gatten nicht mehr sehen.</td></tr><tr><td></td><td id=\"list2-32\">\"An allem ist das dumme Lächeln schuld,\" dachte Stefan Arkadjewitsch.</td></tr><tr><td></td><td id=\"list2-33\">\"Aber was soll ich thun, was soll ich thun?\" frug er voll Verzweiflung sich selbst, ohne eine Antwort zu finden.</td></tr></table>\\n    <script>\\n      const highlightColor = \\'#f0f0f0\\';\\n      const mappings = {\\n        \\'list1\\': {0: [0], 1: [2], 2: [3], 3: [4], 4: [5], 5: [6], 6: [7], 7: [8], 8: [9, 10], 9: [11], 10: [13, 14], 11: [15], 12: [16], 13: [17], 14: [], 15: [18], 16: [19], 17: [20], 18: [21], 19: [], 20: [24], 21: [25], 22: [26], 23: [], 24: [27], 25: [], 26: [28], 27: [29], 28: [30], 29: [31], 30: [32], 31: [33]},\\n        \\'list2\\': {0: [0], 2: [1], 3: [2], 4: [3], 5: [4], 6: [5], 7: [6], 8: [7], 9: [8], 10: [8], 11: [9], 13: [10], 14: [10], 15: [11], 16: [12], 17: [13], 18: [15], 19: [16], 20: [17], 21: [18], 24: [20], 25: [21], 26: [22], 27: [24], 28: [26], 29: [27], 30: [28], 31: [29], 32: [30], 33: [31]}\\n      };\\n\\n      const table = document.getElementById(\\'mappings-table\\');\\n      let highlightedIds = [];\\n\\n      table.addEventListener(\\'mouseover\\', ({ target }) => {\\n        if (target.tagName !== \\'TD\\' || !target.id) {\\n          return;\\n        }\\n\\n        const [listName, listId] = target.id.split(\\'-\\');\\n        const mappedIds = mappings[listName][listId].map((id) => `${listName === \\'list1\\' ? \\'list2\\' : \\'list1\\'}-${id}`);\\n        const idsToHighlight = [target.id, ...mappedIds];\\n\\n        setBackgroud(idsToHighlight, highlightColor);\\n        highlightedIds = idsToHighlight;\\n      });\\n\\n      table.addEventListener(\\'mouseout\\', () => setBackgroud(highlightedIds, \\'\\'));\\n\\n      function setBackgroud(ids, color) {\\n        ids.forEach((id) => (document.getElementById(id).style.backgroundColor = color));\\n      }\\n    </script>\\n    '"
      ]
     },
     "metadata": {},
     "output_type": "display_data"
    }
   ],
   "source": [
    "display(html_code)"
   ]
  },
  {
   "cell_type": "code",
   "execution_count": 38,
   "id": "7bf34413-ae12-49d2-bf36-62d445d01a16",
   "metadata": {},
   "outputs": [
    {
     "data": {
      "text/html": [
       "<table id=\"mappings-table\"><tr><th>Sentences EN</th><th>Sentences DE</th></tr><tr><td id=\"list1-0\">Happy families are all alike; every unhappy family is unhappy in its own way.</td><td id=\"list2-0\">Alle glücklichen Familien sind einander ähnlich; jede unglückliche Familie ist auf hr Weise unglücklich.</td></tr><tr><td id=\"list1-1\">Everything was in confusion in the Oblonskys’ house.</td><td id=\"list2-1\">--</td></tr><tr><td id=\"list1-2\">The wife had discovered that the husband was carrying on an intrigue with a French girl, who had been a governess in their family, and she had announced to her husband that she could not go on living in the same house with him.</td><td id=\"list2-2\">Im Hause der Oblonskiy herrschte allgemeine Verwirrung.</td></tr><tr><td id=\"list1-3\">This position of affairs had now lasted three days, and not only the husband and wife themselves, but all the members of their family and household, were painfully conscious of it.</td><td id=\"list2-3\">Die Dame des Hauses hatte in Erfahrung gebracht, daß ihr Gatte mit der im Hause gewesenen französischen Gouvernante ein Verhältnis unterhalten, und ihm erklärt, sie könne fürderhin nicht mehr mit ihm unter einem Dache bleiben.</td></tr><tr><td id=\"list1-4\">Every person in the house felt that there was no sense in their living together, and that the stray people brought together by chance in any inn had more in common with one another than they, the members of the family and household of the Oblonskys.</td><td id=\"list2-4\">Diese Situation währte bereits seit drei Tagen und sie wurde nicht allein von den beiden Ehegatten selbst, nein auch von allen Familienmitgliedern und dem Personal aufs Peinlichste empfunden.</td></tr><tr><td id=\"list1-5\">The wife did not leave her own room, the husband had not been at home for three days.</td><td id=\"list2-5\">Sie alle fühlten, daß in ihrem Zusammenleben kein höherer Gedanke mehr liege, daß die Leute, welche auf jeder Poststation sich zufällig träfen, noch enger zu einander gehörten, als sie, die Glieder der Familie selbst, und das im Hause geborene und aufgewachsene Gesinde der Oblonskiy.</td></tr><tr><td id=\"list1-6\">The children ran wild all over the house; the English governess quarreled with the housekeeper, and wrote to a friend asking her to look out for a new situation for her; the man-cook had walked off the day before just at dinner time; the kitchen-maid, and the coachman had given warning.</td><td id=\"list2-6\">Die Herrin des Hauses verließ ihre Gemächer nicht, der Gebieter war schon seit drei Tagen abwesend.</td></tr><tr><td id=\"list1-7\">Three days after the quarrel, Prince Stepan Arkadyevitch Oblonsky—Stiva, as he was called in the fashionable world—woke up at his usual hour, that is, at eight o’clock in the morning, not in his wife’s bedroom, but on the leather-covered sofa in his study.</td><td id=\"list2-7\">Die Kinder liefen wie verwaist im ganzen Hause umher, die Engländerin schalt auf die Wirtschafterin und schrieb an eine Freundin, diese möchte ihr eine neue Stellung verschaffen, der Koch hatte bereits seit gestern um die Mittagszeit das Haus verlassen und die Köchin, sowie der Kutscher hatten ihre Rechnungen eingereicht.</td></tr><tr><td id=\"list1-8\">He turned over his stout, well-cared-for person on the springy sofa, as though he would sink into a long sleep again; he vigorously embraced the pillow on the other side and buried his face in it; but all at once he jumped up, sat up on the sofa, and opened his eyes.</td><td id=\"list2-8\">Am dritten Tage nach der Scene erwachte der Fürst Stefan Arkadjewitsch Oblonskiy -- Stiwa hieß er in der Welt -- um die gewöhnliche Stunde, das heißt um acht Uhr morgens, aber nicht im Schlafzimmer seiner Gattin, sondern in seinem Kabinett auf dem Saffiandiwan.</td></tr><tr><td id=\"list1-9\">\"Yes, yes, how was it now?\" he thought, going over his dream.</td><td id=\"list2-9\">Er wandte seinen vollen verweichlichten Leib auf den Sprungfedern des Diwans, als wünsche er noch weiter zu schlafen, während er von der andern Seite innig ein Kissen umfaßte und an die Wange drückte.</td></tr><tr><td id=\"list1-10\">\"Now, how was it? To be sure! Alabin was giving a dinner at Darmstadt; no, not Darmstadt, but something American. Yes, but then, Darmstadt was in America. Yes, Alabin was giving a dinner on glass tables, and the tables sang, l mio tesor—not l mio tesor though, but something better, and there were some sort of little decanters on the table, and they were women, too,\" he remembered.</td><td id=\"list2-10\">Plötzlich aber sprang er empor, setzte sich aufrecht und öffnete die Augen.</td></tr><tr><td id=\"list1-11\">Stepan Arkadyevitch’s eyes twinkled gaily, and he pondered with a smile.</td><td id=\"list2-11\">\"Ja, ja, wie war doch das?\" sann er, über seinem Traum grübelnd.</td></tr><tr><td id=\"list1-12\">\"Yes, it was nice, very nice. There was a great deal more that was delightful, only there’s no putting it into words, or even expressing it in one’s thoughts awake.\"</td><td id=\"list2-12\">\"Wie war doch das?</td></tr><tr><td id=\"list1-13\">And noticing a gleam of light peeping in beside one of the serge curtains, he cheerfully dropped his feet over the edge of the sofa, and felt about with them for his slippers, a present on his last birthday, worked for him by his wife on gold-colored morocco.</td><td id=\"list2-13\">Richtig; Alabin gab ein Diner in Darmstadt; nein, nicht in Darmstadt, es war so etwas Amerikanisches dabei.</td></tr><tr><td id=\"list1-14\">And, as he had done every day for the last nine years, he stretched out his hand, without getting up, towards the place where his dressing-gown always hung in his bedroom.</td><td id=\"list2-14\">Dieses Darmstadt war aber in Amerika, ja, und Alabin gab das Essen auf gläsernen Tischen, ja, und die Tische sangen: Il mio tesoro -- oder nicht so, es war etwas Besseres, und gewisse kleine Karaffen, wie Frauenzimmer aussehend,\" -- fiel ihm ein.</td></tr><tr><td id=\"list1-15\">And thereupon he suddenly remembered that he was not sleeping in his wife’s room, but in his study, and why: the smile vanished from his face, he knitted his brows.</td><td id=\"list2-15\">Die Augen Stefan Arkadjewitschs blitzten heiter, er sann und lächelte.</td></tr><tr><td id=\"list1-16\">\"Ah, ah, ah! Oo!...\" he muttered, recalling everything that had happened.</td><td id=\"list2-16\">\"Ja, es war hübsch, sehr hübsch. Es gab viel Ausgezeichnetes dabei, was man mit Worten nicht schildern könnte und in Gedanken nicht ausdrücken.\"</td></tr><tr><td id=\"list1-17\">And again every detail of his quarrel with his wife was present to his imagination, all the hopelessness of his position, and worst of all, his own fault.</td><td id=\"list2-17\">Er bemerkte einen Lichtstreif, der sich von der Seite durch die baumwollenen Stores gestohlen hatte und schnellte lustig mit den Füßen vom Sofa, um mit ihnen die von seiner Gattin ihm im vorigen Jahr zum Geburtstag verehrten gold- und saffiangestickten Pantoffeln zu suchen; während er, einer alten neunjährigen Gewohnheit folgend, ohne aufzustehen mit der Hand nach der Stelle fuhr, wo in dem Schlafzimmer sonst sein Morgenrock zu hängen pflegte.</td></tr><tr><td id=\"list1-18\">\"Yes, she won’t forgive me, and she can’t forgive me. And the most awful thing about it is that it’s all my fault—all my fault, though I’m not to blame. That’s the point of the whole situation,\" he reflected.</td><td id=\"list2-18\">Hierbei erst kam er zur Besinnung; er entsann sich jäh wie es kam, daß er nicht im Schlafgemach seiner Gattin, sondern in dem Kabinett schlief; das Lächeln verschwand von seinen Zügen und er runzelte die Stirn.</td></tr><tr><td id=\"list1-19\">\"Oh, oh, oh!\" he kept repeating in despair, as he remembered the acutely painful sensations caused him by this quarrel.</td><td id=\"list2-19\">\"O, o, o, ach,\" brach er jammernd aus, indem ihm alles wieder einfiel, was vorgefallen war.</td></tr><tr><td id=\"list1-20\">Most unpleasant of all was the first minute when, on coming, happy and good-humored, from the theater, with a huge pear in his hand for his wife, he had not found his wife in the drawing-room, to his surprise had not found her in the study either, and saw her at last in her bedroom with the unlucky letter that revealed everything in her hand.</td><td id=\"list2-20\">Vor seinem Innern erstanden von neuem alle die Einzelheiten des Auftritts mit seiner Frau, erstand die ganze Mißlichkeit seiner Lage und -- was ihm am peinlichsten war -- seine eigene Schuld.</td></tr><tr><td id=\"list1-21\">She, his Dolly, forever fussing and worrying over household details, and limited in her ideas, as he considered, was sitting perfectly still with the letter in her hand, looking at him with an expression of horror, despair, and indignation.</td><td id=\"list2-21\">\"Ja wohl, sie wird nicht verzeihen, sie kann nicht verzeihen, und am Schrecklichsten ist, daß die Schuld an allem nur ich selbst trage -- ich bin schuld -- aber nicht schuldig!</td></tr><tr><td id=\"list1-22\">\"What’s this? this?\" she asked, pointing to the letter.</td><td id=\"list2-22\">Und hierin liegt das ganze Drama,\" dachte er, \"o weh, o weh!\"</td></tr><tr><td id=\"list1-23\">And at this recollection, Stepan Arkadyevitch, as is so often the case, was not so much annoyed at the fact itself as at the way in which he had met his wife’s words.</td><td id=\"list2-23\">Er sprach voller Verzweiflung, indem er sich alle die tiefen Eindrücke vergegenwärtigte, die er in jener Scene erhalten.</td></tr><tr><td id=\"list1-24\">There happened to him at that instant what does happen to people when they are unexpectedly caught in something very disgraceful.</td><td id=\"list2-24\">Am unerquicklichsten war ihm jene erste Minute gewesen, da er, heiter und zufrieden aus dem Theater heimkehrend, eine ungeheure Birne für seine Frau in der Hand, diese weder im Salon noch im Kabinett fand, und sie endlich im Schlafzimmer antraf, jenen unglückseligen Brief, der alles entdeckte, in den Händen.</td></tr><tr><td id=\"list1-25\">He did not succeed in adapting his face to the position in which he was placed towards his wife by the discovery of his fault.</td><td id=\"list2-25\">Sie, die er für die ewig sorgende, ewig sich mühende, allgegenwärtige Dolly gehalten, sie saß jetzt regungslos, den Brief in der Hand, mit dem Ausdruck des Entsetzens, der Verzweiflung und der Wut ihm entgegenblickend.</td></tr><tr><td id=\"list1-26\">Instead of being hurt, denying, defending himself, begging forgiveness, instead of remaining indifferent even—anything would have been better than what he did do—his face utterly involuntarily (reflex spinal action, reflected Stepan Arkadyevitch, who was fond of physiology)—utterly involuntarily assumed its habitual, good-humored, and therefore idiotic smile.</td><td id=\"list2-26\">\"Was ist das?\" frug sie ihn, auf das Schreiben weisend, und in der Erinnerung hieran quälte ihn, wie das oft zu geschehen pflegt, nicht sowohl der Vorfall selbst, als die Art, wie er ihr auf diese Worte geantwortet hatte.</td></tr><tr><td id=\"list1-27\">This idiotic smile he could not forgive himself.</td><td id=\"list2-27\">Es ging ihm in diesem Augenblick, wie den meisten Menschen, wenn sie unerwartet eines zu schmählichen Vergehens überführt werden.</td></tr><tr><td id=\"list1-28\">Catching sight of that smile, Dolly shuddered as though at physical pain, broke out with her characteristic heat into a flood of cruel words, and rushed out of the room.</td><td id=\"list2-28\">Er verstand nicht, sein Gesicht der Situation anzupassen, in welche er nach der Entdeckung seiner Schuld geraten war, und anstatt den Gekränkten zu spielen, sich zu verteidigen, sich zu rechtfertigen und um Verzeihung zu bitten oder wenigstens gleichmütig zu bleiben -- alles dies wäre noch besser gewesen als das, was er wirklich that -- verzogen sich seine Mienen (\"Gehirnreflexe\" dachte Stefan Arkadjewitsch, als Liebhaber von Physiologie) unwillkürlich und plötzlich zu seinem gewohnten, gutmütigen und daher ziemlich einfältigen Lächeln.</td></tr><tr><td id=\"list1-29\">Since then she had refused to see her husband.</td><td id=\"list2-29\">Dieses dumme Lächeln konnte er sich selbst nicht vergeben.</td></tr><tr><td id=\"list1-30\">\"It’s that idiotic smile that’s to blame for it all,\" thought Stepan Arkadyevitch.</td><td id=\"list2-30\">Als Dolly es gewahrt hatte, erbebte sie, wie von einem physischen Schmerz, und erging sich dann mit der ihr eigenen Leidenschaftlichkeit in einem Strom bitterer Worte, worauf sie das Gemach verließ.</td></tr><tr><td id=\"list1-31\">\"But what’s to be done? What’s to be done?\" he said to himself in despair, and found no answer.</td><td id=\"list2-31\">Von dieser Zeit an wollte sie ihren Gatten nicht mehr sehen.</td></tr><tr><td></td><td id=\"list2-32\">\"An allem ist das dumme Lächeln schuld,\" dachte Stefan Arkadjewitsch.</td></tr><tr><td></td><td id=\"list2-33\">\"Aber was soll ich thun, was soll ich thun?\" frug er voll Verzweiflung sich selbst, ohne eine Antwort zu finden.</td></tr></table>\n",
       "    <script>\n",
       "      const highlightColor = '#f0f0f0';\n",
       "      const mappings = {\n",
       "        'list1': {0: [0], 1: [2], 2: [3], 3: [4], 4: [5], 5: [6], 6: [7], 7: [8], 8: [9, 10], 9: [11], 10: [13, 14], 11: [15], 12: [16], 13: [17], 14: [], 15: [18], 16: [19], 17: [20], 18: [21], 19: [], 20: [24], 21: [25], 22: [26], 23: [], 24: [27], 25: [], 26: [28], 27: [29], 28: [30], 29: [31], 30: [32], 31: [33]},\n",
       "        'list2': {0: [0], 2: [1], 3: [2], 4: [3], 5: [4], 6: [5], 7: [6], 8: [7], 9: [8], 10: [8], 11: [9], 13: [10], 14: [10], 15: [11], 16: [12], 17: [13], 18: [15], 19: [16], 20: [17], 21: [18], 24: [20], 25: [21], 26: [22], 27: [24], 28: [26], 29: [27], 30: [28], 31: [29], 32: [30], 33: [31]}\n",
       "      };\n",
       "\n",
       "      const table = document.getElementById('mappings-table');\n",
       "      let highlightedIds = [];\n",
       "\n",
       "      table.addEventListener('mouseover', ({ target }) => {\n",
       "        if (target.tagName !== 'TD' || !target.id) {\n",
       "          return;\n",
       "        }\n",
       "\n",
       "        const [listName, listId] = target.id.split('-');\n",
       "        const mappedIds = mappings[listName][listId].map((id) => `${listName === 'list1' ? 'list2' : 'list1'}-${id}`);\n",
       "        const idsToHighlight = [target.id, ...mappedIds];\n",
       "\n",
       "        setBackgroud(idsToHighlight, highlightColor);\n",
       "        highlightedIds = idsToHighlight;\n",
       "      });\n",
       "\n",
       "      table.addEventListener('mouseout', () => setBackgroud(highlightedIds, ''));\n",
       "\n",
       "      function setBackgroud(ids, color) {\n",
       "        ids.forEach((id) => (document.getElementById(id).style.backgroundColor = color));\n",
       "      }\n",
       "    </script>\n",
       "    "
      ],
      "text/plain": [
       "<IPython.core.display.HTML object>"
      ]
     },
     "metadata": {},
     "output_type": "display_data"
    }
   ],
   "source": [
    "html_code = create_interactive_table(sentences_en, sentences_de, aligned)\n",
    "display(HTML(html_code))"
   ]
  },
  {
   "cell_type": "markdown",
   "id": "990d608e-e72a-4ade-9e76-41de3027b0de",
   "metadata": {},
   "source": [
    "## Speed Up Embedding Computation"
   ]
  },
  {
   "cell_type": "code",
   "execution_count": null,
   "id": "b0599ae7-6d1c-437d-9b4e-04f073defdf2",
   "metadata": {},
   "outputs": [],
   "source": []
  }
 ],
 "metadata": {
  "kernelspec": {
   "display_name": "Python 3 (ipykernel)",
   "language": "python",
   "name": "python3"
  },
  "language_info": {
   "codemirror_mode": {
    "name": "ipython",
    "version": 3
   },
   "file_extension": ".py",
   "mimetype": "text/x-python",
   "name": "python",
   "nbconvert_exporter": "python",
   "pygments_lexer": "ipython3",
   "version": "3.10.6"
  }
 },
 "nbformat": 4,
 "nbformat_minor": 5
}
