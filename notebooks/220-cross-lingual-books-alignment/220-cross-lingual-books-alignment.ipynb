{
 "cells": [
  {
   "cell_type": "markdown",
   "id": "7ae282b9-2041-4594-b10a-845f9a4f0382",
   "metadata": {},
   "source": [
    "# Cross-lingual Books Alignment with Transformers and OpenVINO™\n",
    "\n",
    "Cross-lingual text alignment is the task of matching sentences in a pair of texts that are translations of each other. In this notebook, you'll learn how to use a deep learning model to create a parallel book in English and German\n",
    "\n",
    "This method helps you learn languages but also provides parallel texts that can be used to train machine translation models. This is particularly useful if one of the languages is low-resource or you don't have enough data to train a full-fledged translation model.\n",
    "\n",
    "The notebook shows how to accelerate the most computationally expensive part of the pipeline - getting vectors from sentences - using the OpenVINO™ framework.\n",
    "\n",
    "\n",
    "## Pipeline\n",
    "\n",
    "The notebook guides you through the entire process of creating a parallel book: from obtaining raw texts to building a visualization of aligned sentences. Here is the pipeline diagram:\n",
    "\n",
    "<img src=\"https://user-images.githubusercontent.com/51917466/254582697-18f3ab38-e264-4b2c-a088-8e54b855c1b2.png\"/>\n",
    "\n",
    "Visualizing the result allows you to identify areas for improvement in the pipeline steps, as indicated in the diagram.\n",
    "\n",
    "## Prerequisites\n",
    "\n",
    "- `requests` - for getting books\n",
    "- `pysbd` - for splitting sentences\n",
    "- `transformers[torch]` and `openvino_dev` - for getting sentence embeddings\n",
    "- `seaborn` - for alignment matrix visualization\n",
    "- `ipywidgets` - for displaying HTML and JS output in the notebook "
   ]
  },
  {
   "cell_type": "code",
   "execution_count": 1,
   "id": "c45a2e19-7983-4daa-805c-e632a9d672fb",
   "metadata": {},
   "outputs": [],
   "source": [
    "!pip install -q requests pysbd transformers[torch] openvino_dev>=2023.0 seaborn ipywidgets"
   ]
  },
  {
   "cell_type": "markdown",
   "id": "34ddf5a3-f647-4229-8e45-ac988ee094ae",
   "metadata": {},
   "source": [
    "## Get Books\n",
    "\n",
    "The first step is to get the books that we will be working with. For this notebook, we will use English and German versions of Anna Karenina by Leo Tolstoy. The texts can be obtained from the [Project Gutenberg site](https://www.gutenberg.org/). Since copyright laws are complex and differ from country to country, check the book's legal availability in your country. Refer to the Project Gutenberg Permissions, Licensing and other Common Requests [page](https://www.gutenberg.org/policy/permission.html) for more information.\n",
    "\n",
    "Find the books on Project Gutenberg [search page](https://www.gutenberg.org/ebooks/) and get the ID of each book. To get the texts, we will pass the IDs to the [Gutendex](http://gutendex.com/) API."
   ]
  },
  {
   "cell_type": "code",
   "execution_count": 2,
   "id": "8e4d3551-7879-42ab-ae16-707f059f8c7c",
   "metadata": {},
   "outputs": [],
   "source": [
    "import requests\n",
    "\n",
    "\n",
    "def get_book_by_id(book_id: int, gutendex_url: str = \"https://gutendex.com/\") -> str:\n",
    "    book_metadata_url = gutendex_url + \"/books/\" + str(book_id)\n",
    "    request = requests.get(book_metadata_url, timeout=30)\n",
    "    request.raise_for_status()\n",
    "\n",
    "    book_metadata = request.json()\n",
    "    book_url = book_metadata[\"formats\"][\"text/plain\"]\n",
    "    return requests.get(book_url).text\n",
    "\n",
    "\n",
    "en_book_id = 1399\n",
    "de_book_id = 44956\n",
    "\n",
    "anna_karenina_en = get_book_by_id(en_book_id)\n",
    "anna_karenina_de = get_book_by_id(de_book_id)"
   ]
  },
  {
   "cell_type": "markdown",
   "id": "46316fc8-8190-4274-9cfc-1883f06bc6d8",
   "metadata": {},
   "source": [
    "Let's check that we got the right books by showing a part of the texts:"
   ]
  },
  {
   "cell_type": "code",
   "execution_count": 3,
   "id": "1fef94e7-9499-40cf-838a-62b32dbfef56",
   "metadata": {},
   "outputs": [
    {
     "name": "stdout",
     "output_type": "stream",
     "text": [
      "﻿The Project Gutenberg eBook of Anna Karenina, by Leo Tolstoy\n",
      "\n",
      "This eBook is for the use of anyone anywhere in the United States and\n",
      "most other parts of the world at no cost and with almost no restrictions\n",
      "whatsoever. You may copy it, give it away or re-use it under the terms\n",
      "of the Project Gutenberg License included with this eBook or online at\n",
      "www.gutenberg.org. If you are not located in the United States, you\n",
      "will have to check the laws of the country where you are located before\n",
      "using this eBook.\n",
      "\n",
      "Title: Anna Karenina\n",
      "\n",
      "Author: Leo Tolstoy\n",
      "\n",
      "Release Date: July 1, 1998 [eBook #1399]\n",
      "[Most recently updated: April 9, 2023]\n",
      "\n",
      "Language: English\n",
      "\n",
      "\n",
      "Produced by: David Brannan, Andrew Sly and David Widger\n",
      "\n",
      "*** START OF THE PROJECT GUTENBERG EBOOK ANNA KARENINA ***\n",
      "\n",
      "[Illustration]\n",
      "\n",
      "\n",
      "\n",
      "\n",
      " ANNA KARENINA \n",
      "\n",
      " by Leo Tolstoy \n",
      "\n",
      " Translated by Constance Garnett \n",
      "\n",
      "Contents\n",
      "\n",
      "\n",
      " PART ONE\n",
      " PART TWO\n",
      " PART THREE\n",
      " PART FOUR\n",
      " PART FIVE\n",
      " PART SIX\n",
      " PART SEVEN\n",
      " PART EIGHT\n",
      "\n",
      "\n",
      "\n",
      "\n",
      "PART ONE\n",
      "\n",
      "Chapter 1\n",
      "\n",
      "\n",
      "Happy families are all alike; every unhappy family is unhappy in its\n",
      "own way.\n",
      "\n",
      "Everything was in confusion in the Oblonskys’ house. The wife had\n",
      "discovered that the husband was carrying on an intrigue with a French\n",
      "girl, who had been a governess in their family, and she had announced\n",
      "to her husband that she could not go on living in the same house with\n",
      "him. This position of affairs had now lasted three days, and not only\n",
      "the husband and wife themselve\n"
     ]
    }
   ],
   "source": [
    "print(anna_karenina_en[:1500])"
   ]
  },
  {
   "cell_type": "markdown",
   "id": "96e5475c-1db9-4f1b-a894-35927afa50e8",
   "metadata": {},
   "source": [
    "which in a raw format looks like this:"
   ]
  },
  {
   "cell_type": "code",
   "execution_count": 4,
   "id": "d1419b6e-2c73-4627-a713-ffdce236b70f",
   "metadata": {},
   "outputs": [
    {
     "data": {
      "text/plain": [
       "'\\ufeffThe Project Gutenberg eBook of Anna Karenina, by Leo Tolstoy\\r\\n\\r\\nThis eBook is for the use of anyone anywhere in the United States and\\r\\nmost other parts of the world at no cost and with almost no restrictions\\r\\nwhatsoever. You may copy it, give it away or re-use it under the terms\\r\\nof the Project Gutenberg License included with this eBook or online at\\r\\nwww.gutenberg.org. If you are not located in the United States, you\\r\\nwill have to check the laws of the country where you are located before\\r\\nusing this eBook.\\r\\n\\r\\nTitle: Anna Karenina\\r\\n\\r\\nAuthor: Leo Tolstoy\\r\\n\\r\\nRelease Date: July 1, 1998 [eBook #1399]\\r\\n[Most recently updated: April 9, 2023]\\r\\n\\r\\nLanguage: English\\r\\n\\r\\n\\r\\nProduced by: David Brannan, Andrew Sly and David Widger\\r\\n\\r\\n*** START OF THE PROJECT GUTENBERG EBOOK ANNA KARENINA ***\\r\\n\\r\\n[Illustration]\\r\\n\\r\\n\\r\\n\\r\\n\\r\\n ANNA KARENINA \\r\\n\\r\\n by Leo Tolstoy \\r\\n\\r\\n Translated by Constance Garnett \\r\\n\\r\\nContents\\r\\n\\r\\n\\r\\n PART ONE\\r\\n PART TWO\\r\\n PART THREE\\r\\n PART FOUR\\r\\n PART FIVE\\r\\n PART SIX\\r\\n PART SEVEN\\r\\n PART EIGHT\\r\\n\\r\\n\\r\\n\\r\\n\\r\\nPART ONE\\r\\n\\r\\nChapter 1\\r\\n\\r\\n\\r\\nHappy families are all alike; every unhappy family is unhappy in its\\r\\nown way.\\r\\n\\r\\nEverything was in confusion in the Oblonskys’ house. The wife had\\r\\ndiscovered that the husband was carrying on an intrigue with a French\\r\\ngirl, who had been a governess in their family, and she had announced\\r\\nto her husband that she could not go on living in the same house with\\r\\nhim. This position of affairs had now lasted three days, and not only\\r\\nthe husband and wife themselve'"
      ]
     },
     "execution_count": 4,
     "metadata": {},
     "output_type": "execute_result"
    }
   ],
   "source": [
    "anna_karenina_en[:1500]"
   ]
  },
  {
   "cell_type": "code",
   "execution_count": 5,
   "id": "2727e361-e578-4ade-b81f-c33cfa593899",
   "metadata": {},
   "outputs": [
    {
     "data": {
      "text/plain": [
       "'\\ufeffThe Project Gutenberg EBook of Anna Karenina, 1. Band, by Leo N. Tolstoi\\r\\n\\r\\nThis eBook is for the use of anyone anywhere at no cost and with\\r\\nalmost no restrictions whatsoever.  You may copy it, give it away or\\r\\nre-use it under the terms of the Project Gutenberg License included\\r\\nwith this eBook or online at www.gutenberg.org\\r\\n\\r\\n\\r\\nTitle: Anna Karenina, 1. Band\\r\\n\\r\\nAuthor: Leo N. Tolstoi\\r\\n\\r\\nRelease Date: February 18, 2014 [EBook #44956]\\r\\n\\r\\nLanguage: German\\r\\n\\r\\n\\r\\n*** START OF THIS PROJECT GUTENBERG EBOOK ANNA KARENINA, 1. BAND ***\\r\\n\\r\\n\\r\\n\\r\\n\\r\\nProduced by Norbert H. Langkau, Jens Nordmann and the\\r\\nOnline Distributed Proofreading Team at http://www.pgdp.net\\r\\n\\r\\n\\r\\n\\r\\n\\r\\n\\r\\n\\r\\n\\r\\n\\r\\n\\r\\n                             Anna Karenina.\\r\\n\\r\\n\\r\\n                        Roman aus dem Russischen\\r\\n\\r\\n                                  des\\r\\n\\r\\n                         Grafen Leo N. Tolstoi.\\r\\n\\r\\n\\r\\n\\r\\n                  Nach der siebenten Auflage übersetzt\\r\\n\\r\\n                                  von\\r\\n\\r\\n                              Hans Moser.\\r\\n\\r\\n\\r\\n                              Erster Band.\\r\\n\\r\\n\\r\\n\\r\\n                                Leipzig\\r\\n\\r\\n                Druck und Verlag von Philipp Reclam jun.\\r\\n\\r\\n                   *       *       *       *       *\\r\\n\\r\\n\\r\\n\\r\\n\\r\\n                              Erster Teil.\\r\\n\\r\\n                               »Die Rache ist mein, ich will vergelten.«\\r\\n\\r\\n                                   1.\\r\\n\\r\\n\\r\\nAlle glücklichen Familien sind einander ähnlich; jede unglückliche\\r\\nFamilie ist auf _ihre_ Weise ung'"
      ]
     },
     "execution_count": 5,
     "metadata": {},
     "output_type": "execute_result"
    }
   ],
   "source": [
    "anna_karenina_de[:1500]"
   ]
  },
  {
   "cell_type": "markdown",
   "id": "12a0f9e3-457c-4f2b-b4ae-2a2292a0ae86",
   "metadata": {},
   "source": [
    "## Clean Text\n",
    "\n",
    "The downloaded books may contain service information before and after the main text. The text might have different formatting styles and markup, for example, phrases from a different language enclosed in underscores for potential emphasis or italicization:\r\n",
    "\r\n",
    ">  Yes, Alabin was giving a dinner on glass tables, and the\r\n",
    "tables sang, _Il mio tesoro_—not _Il mio tesoro_ though, but something\r\n",
    "better, and there were some sort of little decanters on the table, and\r\n",
    "they were women, too,” he remembstrics."
   ]
  },
  {
   "cell_type": "markdown",
   "id": "9286e786-5942-46df-a296-b7b86e8e3f18",
   "metadata": {},
   "source": [
    "The next stages of the pipeline will be difficult to complete without cleaning and normalizing the text. Since formatting may differ, manual work is required at this stage. For example, the main content in the German version is enclosed in `*       *       *       *       *`, so it is safe to remove everything before the first occurrence and after the last occurrence of these asterisks.\n",
    "\n",
    "> **Hint**: There are text-cleaning libraries that clean up common flaws. If the source of the text is known, you can look for a library designed for that source, for example [`gutenberg_cleaner`](https://github.com/kiasar/gutenberg_cleaner). These libraries can reduce manual work and even automate the process."
   ]
  },
  {
   "cell_type": "code",
   "execution_count": 6,
   "id": "baa89c79-c7bd-438e-ba6d-d76cd2ae5c3e",
   "metadata": {},
   "outputs": [],
   "source": [
    "import re\n",
    "from contextlib import contextmanager\n",
    "from tqdm.auto import tqdm\n",
    "\n",
    "\n",
    "start_pattern_en = r\"\\nPART ONE\"\n",
    "anna_karenina_en = re.split(start_pattern_en, anna_karenina_en)[1].strip()\n",
    "\n",
    "end_pattern_en = \"*** END OF THE PROJECT GUTENBERG EBOOK ANNA KARENINA ***\"\n",
    "anna_karenina_en = anna_karenina_en.split(end_pattern_en)[0].strip()"
   ]
  },
  {
   "cell_type": "code",
   "execution_count": 7,
   "id": "1e7c82b6-e99d-4a60-a71f-694bdb9b7cb8",
   "metadata": {},
   "outputs": [],
   "source": [
    "start_pattern_de = \"*       *       *       *       *\"\n",
    "anna_karenina_de = anna_karenina_de.split(start_pattern_de, maxsplit=1)[1].strip()\n",
    "anna_karenina_de = anna_karenina_de.rsplit(start_pattern_de, maxsplit=1)[0].strip()"
   ]
  },
  {
   "cell_type": "code",
   "execution_count": 8,
   "id": "22b0bbd4-a903-4010-9c54-515b23f60cac",
   "metadata": {},
   "outputs": [],
   "source": [
    "anna_karenina_en = anna_karenina_en.replace(\"\\r\\n\", \"\\n\")\n",
    "anna_karenina_de = anna_karenina_de.replace(\"\\r\\n\", \"\\n\")"
   ]
  },
  {
   "cell_type": "markdown",
   "id": "e81f85cb-a790-4396-8f5b-a7ed47f91d73",
   "metadata": {},
   "source": [
    "For this notebook, we will work only with the first chapter."
   ]
  },
  {
   "cell_type": "code",
   "execution_count": 9,
   "id": "71f0665f-7009-4da0-b97b-cb3f45893a44",
   "metadata": {},
   "outputs": [],
   "source": [
    "chapter_pattern_en = r\"Chapter \\d?\\d\"\n",
    "chapter_1_en = re.split(chapter_pattern_en, anna_karenina_en)[1].strip()"
   ]
  },
  {
   "cell_type": "code",
   "execution_count": 10,
   "id": "bb87955f-7c61-47db-a255-3005ed72f1bd",
   "metadata": {},
   "outputs": [],
   "source": [
    "chapter_pattern_de = r\"\\d?\\d.\\n\\n\"\n",
    "chapter_1_de = re.split(chapter_pattern_de, anna_karenina_de)[1].strip()"
   ]
  },
  {
   "cell_type": "markdown",
   "id": "a218f5e9-e5ef-4881-bb48-f3f73d2b6e49",
   "metadata": {},
   "source": [
    "Let's cut it out and define some cleaning functions."
   ]
  },
  {
   "cell_type": "code",
   "execution_count": 11,
   "id": "6ad2e38c-0050-4f9f-ad3d-f860ea636620",
   "metadata": {},
   "outputs": [],
   "source": [
    "def remove_single_newline(text: str) -> str:\n",
    "    return re.sub(r\"\\n(?!\\n)\", \" \", text)\n",
    "\n",
    "\n",
    "def unify_quotes(text: str) -> str:\n",
    "    return re.sub(r\"['\\\"»«“”]\", '\"', text)\n",
    "\n",
    "\n",
    "def remove_markup(text: str) -> str:\n",
    "    text = text.replace(\">=\", \"\").replace(\"=<\", \"\")\n",
    "    return re.sub(r\"_\\w|\\w_\", \"\", text)"
   ]
  },
  {
   "cell_type": "markdown",
   "id": "95d6c3d8-c7b4-4f1b-ad70-2a81853cb0ae",
   "metadata": {},
   "source": [
    "Combine the cleaning functions into a single pipeline. The `tqdm` library is used to track the execution progress. Define a context manager to optionally disable the progress indicators if they are not needed."
   ]
  },
  {
   "cell_type": "code",
   "execution_count": 12,
   "id": "2b534d3e-fb9d-4a38-99d1-225ab7e33612",
   "metadata": {},
   "outputs": [
    {
     "data": {
      "application/vnd.jupyter.widget-view+json": {
       "model_id": "0d2bc245c6424d08a7cc478b5043eb0e",
       "version_major": 2,
       "version_minor": 0
      },
      "text/plain": [
       "  0%|          | 0/3 [00:00<?, ?it/s]"
      ]
     },
     "metadata": {},
     "output_type": "display_data"
    },
    {
     "data": {
      "application/vnd.jupyter.widget-view+json": {
       "model_id": "eb2617a7538549968f3d0bf840a51dad",
       "version_major": 2,
       "version_minor": 0
      },
      "text/plain": [
       "  0%|          | 0/3 [00:00<?, ?it/s]"
      ]
     },
     "metadata": {},
     "output_type": "display_data"
    }
   ],
   "source": [
    "disable_tqdm = False\n",
    "\n",
    "\n",
    "@contextmanager\n",
    "def disable_tqdm_context():\n",
    "    global disable_tqdm\n",
    "    disable_tqdm = True\n",
    "    yield\n",
    "    disable_tqdm = False\n",
    "\n",
    "\n",
    "def clean_text(text: str) -> str:\n",
    "    text_cleaning_pipeline = [\n",
    "        remove_single_newline,\n",
    "        unify_quotes,\n",
    "        remove_markup,\n",
    "    ]    \n",
    "    progress_bar = tqdm(text_cleaning_pipeline, disable=disable_tqdm)\n",
    "    for clean_func in progress_bar:\n",
    "        progress_bar.set_postfix_str(clean_func.__name__)\n",
    "        text = clean_func(text)\n",
    "    return text\n",
    "\n",
    "\n",
    "chapter_1_en = clean_text(chapter_1_en)\n",
    "chapter_1_de = clean_text(chapter_1_de)"
   ]
  },
  {
   "cell_type": "markdown",
   "id": "6c02fd99-d3c3-4301-9f3f-5f3a9babac8a",
   "metadata": {},
   "source": [
    "## Split Text\n",
    "\n",
    "Dividing text into sentences is a challenging task in text processing. The problem is called [sentence boundary disambiguation](https://en.wikipedia.org/wiki/Sentence_boundary_disambiguation), which can be solved using heuristics or machine learning models. This notebook uses a `Segmenter` from the `pysbd` library, which is initialized with an [ISO language code](https://en.wikipedia.org/wiki/List_of_ISO_639-1_codes), as the rules for splitting text into sentences may vary for different languages.\n",
    "\n",
    "> **Hint**: The `book_metadata` obtained from the Gutendex contains the language code as well, enabling automation of this part of the pipeline."
   ]
  },
  {
   "cell_type": "code",
   "execution_count": 13,
   "id": "6e2bcac2-91f2-43d5-b690-7be4fb453578",
   "metadata": {},
   "outputs": [
    {
     "data": {
      "text/plain": [
       "(32, 34)"
      ]
     },
     "execution_count": 13,
     "metadata": {},
     "output_type": "execute_result"
    }
   ],
   "source": [
    "import pysbd\n",
    "\n",
    "\n",
    "splitter_en = pysbd.Segmenter(language=\"en\", clean=True)\n",
    "splitter_de = pysbd.Segmenter(language=\"de\", clean=True)\n",
    "\n",
    "\n",
    "sentences_en = splitter_en.segment(chapter_1_en)\n",
    "sentences_de = splitter_de.segment(chapter_1_de)\n",
    "\n",
    "len(sentences_en), len(sentences_de)"
   ]
  },
  {
   "cell_type": "markdown",
   "id": "b4264e86-6524-4f95-bb5d-e0498b55dad0",
   "metadata": {},
   "source": [
    "## Get Sentence Embeddings\n",
    "\n",
    "The next step is to transform sentences into vector representations. Transformer encoder models, like BERT, provide high-quality embeddings but can be slow. Additionally, the model should support both chosen languages. Training separate models for each language pair can be expensive, so there are many models pre-trained on multiple languages simultaneously, for example:\n",
    "\n",
    "- [multilingual-MiniLM](https://huggingface.co/sentence-transformers/paraphrase-multilingual-MiniLM-L12-v2)\n",
    "- [distiluse-base-multilingual-cased](https://huggingface.co/sentence-transformers/distiluse-base-multilingual-cased-v2)\n",
    "- [bert-base-multilingual-uncased](https://huggingface.co/bert-base-multilingual-uncased)\n",
    "- [LaBSE](https://huggingface.co/rasa/LaBSE)\n",
    "\n",
    "LaBSE stands for [Language-agnostic BERT Sentence Embedding](https://arxiv.org/pdf/2007.01852.pdf) and supports 109+ languages. It has the same architecture as the BERT model but has been trained on a different task: to produce identical embeddings for translation pairs.\n",
    "<img src=\"https://user-images.githubusercontent.com/51917466/254582913-51531880-373b-40cb-bbf6-1965859df2eb.png\">\n",
    "\n",
    "This makes LaBSE a great choice for our task and it can be reused for different language pairs still producing good results. "
   ]
  },
  {
   "cell_type": "code",
   "execution_count": 14,
   "id": "999759e2-cddf-40a0-a3b5-e453882f7e77",
   "metadata": {},
   "outputs": [],
   "source": [
    "from typing import List, Union, Dict\n",
    "from transformers import AutoTokenizer, AutoModel, BertModel\n",
    "import numpy as np\n",
    "import torch\n",
    "from openvino.runtime import CompiledModel as OVModel\n",
    "\n",
    "\n",
    "model_id = \"rasa/LaBSE\"\n",
    "pt_model = AutoModel.from_pretrained(model_id)\n",
    "tokenizer = AutoTokenizer.from_pretrained(model_id)"
   ]
  },
  {
   "cell_type": "markdown",
   "id": "2947fe49-25d6-4e9e-9d09-4d26a2e2e473",
   "metadata": {},
   "source": [
    "The model has two outputs: `last_hidden_state` and `pooler_output`. For generating embeddings, you can use either the first vector from the `last_hidden_state`, which corresponds to the special `[CLS]` token, or the entire vector from the second input. Usually, the second option is used, but we will be using the first option as it also works well for our task. Fill free to experiment with different outputs to find the best fit."
   ]
  },
  {
   "cell_type": "code",
   "execution_count": 15,
   "id": "83fa560e-9e62-46ea-b755-c2cff01e22b7",
   "metadata": {
    "tags": []
   },
   "outputs": [
    {
     "data": {
      "application/vnd.jupyter.widget-view+json": {
       "model_id": "210f65f71e2d41e0b5f55b034415c509",
       "version_major": 2,
       "version_minor": 0
      },
      "text/plain": [
       "  0%|          | 0/32 [00:00<?, ?it/s]"
      ]
     },
     "metadata": {},
     "output_type": "display_data"
    },
    {
     "data": {
      "application/vnd.jupyter.widget-view+json": {
       "model_id": "38c548a2925d4a989a4577c23ab6dba3",
       "version_major": 2,
       "version_minor": 0
      },
      "text/plain": [
       "  0%|          | 0/34 [00:00<?, ?it/s]"
      ]
     },
     "metadata": {},
     "output_type": "display_data"
    }
   ],
   "source": [
    "def get_embeddings(\n",
    "    sentences: List[str],\n",
    "    embedding_model: Union[BertModel, OVModel],\n",
    ") -> np.ndarray:\n",
    "    if isinstance(embedding_model, OVModel):\n",
    "        embeddings = [\n",
    "            embedding_model(tokenizer(sent, return_tensors=\"np\").data)[\n",
    "                \"last_hidden_state\"\n",
    "            ][0][0]\n",
    "            for sent in tqdm(sentences, disable=disable_tqdm)\n",
    "        ]\n",
    "        return np.vstack(embeddings)\n",
    "    else:\n",
    "        embeddings = [\n",
    "            embedding_model(**tokenizer(sent, return_tensors=\"pt\"))[\n",
    "                \"last_hidden_state\"\n",
    "            ][0][0]\n",
    "            for sent in tqdm(sentences, disable=disable_tqdm)\n",
    "        ]\n",
    "        return torch.vstack(embeddings)\n",
    "\n",
    "\n",
    "embeddings_en_pt = get_embeddings(sentences_en, pt_model)\n",
    "embeddings_de_pt = get_embeddings(sentences_de, pt_model)"
   ]
  },
  {
   "cell_type": "markdown",
   "id": "d659327a-b6e2-48d4-a011-02433a90d4c6",
   "metadata": {},
   "source": [
    "### Optimize the Model with OpenVINO\n",
    "\n",
    "\n",
    "The LaBSE model is quite large and can be slow to infer on some hardware, so let's optimize it with OpenVINO. [Model conversion Python API](https://docs.openvino.ai/2023.0/openvino_docs_MO_DG_Deep_Learning_Model_Optimizer_DevGuide.html) accepts the PyTorch/Transformers model object and additional information about model inputs. An `example_input` is needed to trace the model execution graph, as PyTorch constructs it dynamically during inference. The converted model must be compiled for the target device using the `Core` object before it can be used."
   ]
  },
  {
   "cell_type": "code",
   "execution_count": 16,
   "id": "fc01c535-46ef-4cd2-9130-4dda7c023e64",
   "metadata": {},
   "outputs": [
    {
     "name": "stderr",
     "output_type": "stream",
     "text": [
      "/home/apaniuko/python/openvino_notebooks/openvino_env/lib/python3.10/site-packages/torch/jit/annotations.py:309: UserWarning: TorchScript will treat type annotations of Tensor dtype-specific subtypes as if they are normal Tensors. dtype constraints are not enforced in compilation either.\n",
      "  warnings.warn(\"TorchScript will treat type annotations of Tensor \"\n"
     ]
    },
    {
     "data": {
      "application/vnd.jupyter.widget-view+json": {
       "model_id": "8cab5fd5582b446285e8d41cfa2344da",
       "version_major": 2,
       "version_minor": 0
      },
      "text/plain": [
       "  0%|          | 0/32 [00:00<?, ?it/s]"
      ]
     },
     "metadata": {},
     "output_type": "display_data"
    },
    {
     "data": {
      "application/vnd.jupyter.widget-view+json": {
       "model_id": "b93c41661b28483f958af6e6a7bb70af",
       "version_major": 2,
       "version_minor": 0
      },
      "text/plain": [
       "  0%|          | 0/34 [00:00<?, ?it/s]"
      ]
     },
     "metadata": {},
     "output_type": "display_data"
    }
   ],
   "source": [
    "from openvino.runtime import Core, Type\n",
    "from openvino.tools.mo import convert_model\n",
    "\n",
    "\n",
    "# 3 inputs with dynamic axis [batch_size, sequence_length] and type int64\n",
    "inputs_info = [([-1, -1], Type.i64)] * 3\n",
    "ov_model = convert_model(\n",
    "    pt_model,\n",
    "    example_input=tokenizer(\"test\", return_tensors=\"pt\").data,\n",
    "    input=inputs_info,\n",
    ")\n",
    "\n",
    "core = Core()\n",
    "compiled_model = core.compile_model(ov_model, \"CPU\")\n",
    "\n",
    "embeddings_en = get_embeddings(sentences_en, compiled_model)\n",
    "embeddings_de = get_embeddings(sentences_de, compiled_model)"
   ]
  },
  {
   "cell_type": "markdown",
   "id": "9dcba47f-a932-44d9-88c3-824a32a51d35",
   "metadata": {},
   "source": [
    "On an Intel Core i9-10980XE CPU, the PyTorch model processed 40-43 sentences per second. After optimization with OpenVINO, the processing speed increased to 56-60 sentences per second. This is about 40% performance boost with just a few lines of code. Let's check if the model predictions remain within an acceptable tolerance:"
   ]
  },
  {
   "cell_type": "code",
   "execution_count": 17,
   "id": "fc2db8bc-24fe-485c-9ba5-78dca160bc09",
   "metadata": {},
   "outputs": [
    {
     "data": {
      "text/plain": [
       "True"
      ]
     },
     "execution_count": 17,
     "metadata": {},
     "output_type": "execute_result"
    }
   ],
   "source": [
    "np.all(np.isclose(embeddings_en, embeddings_en_pt.detach().numpy(), atol=1e-3))"
   ]
  },
  {
   "cell_type": "markdown",
   "id": "462735e3-ec90-4746-a0e5-9242ac0b6f90",
   "metadata": {
    "tags": []
   },
   "source": [
    "## Calculate Sentence Alignment\n",
    "\n",
    "With the embedding matrices from the previous step, we can calculate the alignment:\n",
    "1. Calculate sentence similarity between each pair of sentences.\n",
    "1. Transform the values in the similarity matrix rows and columns to a specified range, for example `[-1, 1]`.\n",
    "1. Compare the values with a threshold to get boolean matrices with 0 and 1.\n",
    "1. Sentence pairs that have 1 in both matrices should be aligned according to the model.\n",
    "\n",
    "We visualize the resulting matrix and also make sure that the result of the converted model is the same as the original one."
   ]
  },
  {
   "cell_type": "code",
   "execution_count": 18,
   "id": "3c90120e-2ea4-40ee-ae6a-02dfca19bfaf",
   "metadata": {},
   "outputs": [
    {
     "data": {
      "image/png": "[encoded data removed]",
      "text/plain": [
       "<Figure size 1000x500 with 2 Axes>"
      ]
     },
     "metadata": {},
     "output_type": "display_data"
    }
   ],
   "source": [
    "import seaborn as sns\n",
    "import matplotlib.pyplot as plt\n",
    "\n",
    "\n",
    "sns.set_style(\"whitegrid\")\n",
    "\n",
    "\n",
    "def transform(x):\n",
    "    x = x - np.mean(x)\n",
    "    return x / np.var(x)\n",
    "\n",
    "\n",
    "def calculate_alignment_matrix(\n",
    "    first: np.ndarray, second: np.ndarray, threshold: float = 1e-3\n",
    ") -> np.ndarray:\n",
    "    similarity = first @ second.T  # 1\n",
    "    similarity_en_to_de = np.apply_along_axis(transform, -1, similarity)  # 2\n",
    "    similarity_de_to_en = np.apply_along_axis(transform, -2, similarity)  # 2\n",
    "\n",
    "    both_one = (similarity_en_to_de > threshold) * (\n",
    "        similarity_de_to_en > threshold\n",
    "    )  # 3 and 4\n",
    "    return both_one\n",
    "\n",
    "\n",
    "threshold = 0.028\n",
    "\n",
    "alignment_matrix = calculate_alignment_matrix(embeddings_en, embeddings_de, threshold)\n",
    "alignment_matrix_pt = calculate_alignment_matrix(\n",
    "    embeddings_en_pt.detach().numpy(),\n",
    "    embeddings_de_pt.detach().numpy(),\n",
    "    threshold,\n",
    ")\n",
    "\n",
    "graph, axis = plt.subplots(1, 2, figsize=(10, 5), sharey=True)\n",
    "\n",
    "for matrix, ax, title in zip(\n",
    "    (alignment_matrix, alignment_matrix_pt), axis, (\"OpenVINO\", \"PyTorch\")\n",
    "):\n",
    "    plot = sns.heatmap(matrix, cbar=False, square=True, ax=ax)\n",
    "    plot.set_title(f\"Sentence Alignment Matrix {title}\")\n",
    "    plot.set_xlabel(\"German\")\n",
    "    if title == \"OpenVINO\":\n",
    "        plot.set_ylabel(\"English\")\n",
    "\n",
    "graph.tight_layout()"
   ]
  },
  {
   "cell_type": "markdown",
   "id": "8eab75a4-a847-4ddc-8766-1ec7dea9720c",
   "metadata": {},
   "source": [
    "After visualizing and comparing the alignment matrices, let's transform them into a dictionary to make it more convenient to work with alignment in Python. Dictionary keys will be English sentence numbers and values will be lists of German sentence numbers."
   ]
  },
  {
   "cell_type": "code",
   "execution_count": 19,
   "id": "eefd16c7-f732-45fa-89f6-2c4f8eccb01a",
   "metadata": {},
   "outputs": [
    {
     "data": {
      "text/plain": [
       "{0: [0],\n",
       " 1: [2],\n",
       " 2: [3],\n",
       " 3: [4],\n",
       " 4: [5],\n",
       " 5: [6],\n",
       " 6: [7],\n",
       " 7: [8],\n",
       " 8: [9, 10],\n",
       " 9: [11],\n",
       " 10: [13, 14],\n",
       " 11: [15],\n",
       " 12: [16],\n",
       " 13: [17],\n",
       " 14: [],\n",
       " 15: [18],\n",
       " 16: [19],\n",
       " 17: [20],\n",
       " 18: [21],\n",
       " 19: [23],\n",
       " 20: [24],\n",
       " 21: [25],\n",
       " 22: [26],\n",
       " 23: [],\n",
       " 24: [27],\n",
       " 25: [],\n",
       " 26: [28],\n",
       " 27: [29],\n",
       " 28: [30],\n",
       " 29: [31],\n",
       " 30: [32],\n",
       " 31: [33]}"
      ]
     },
     "execution_count": 19,
     "metadata": {},
     "output_type": "execute_result"
    }
   ],
   "source": [
    "def make_alignment(alignment_matrix: np.ndarray) -> Dict[int, List[int]]:\n",
    "    aligned = {idx: [] for idx, sent in enumerate(sentences_en)}\n",
    "    for en_idx, de_idx in zip(*np.nonzero(alignment_matrix)):\n",
    "        aligned[en_idx].append(de_idx)\n",
    "    return aligned\n",
    "\n",
    "\n",
    "aligned = make_alignment(alignment_matrix)\n",
    "aligned"
   ]
  },
  {
   "cell_type": "markdown",
   "id": "a36bbbfb-6bd4-45bc-9d32-32f511396f1f",
   "metadata": {},
   "source": [
    "## Postprocess Sentence Alignment\n",
    "\n",
    "There are several gaps in the resulting alignment, such as English sentence #14 not mapping to any German sentence. Here are some possible reasons for this:\n",
    "\n",
    "1. There are no equivalent sentences in the other book, and in such cases, the model is working correctly.\n",
    "1. The sentence has an equivalent sentence in another language, but the model failed to identify it. The `threshold` might be too high, or the model is not sensitive enough. To address this, lower the `threshold` value or try a different model.\n",
    "1. The sentence has an equivalent text part in another language, meaning that either the sentence splitters are too fine or too coarse. Try tuning the text cleaning and splitting steps to fix this issue.\n",
    "1. Combination of 2 and 3, where both the model's sensitivity and text preparation steps need adjustments.\n",
    "\n",
    "Another solution to address this issue is by applying heuristics. As you can see, English sentence 13 corresponds to German 17, and 15 to 18. Most likely, English sentence 14 is part of either German sentence 17 or 18. By comparing the similarity using the model, you can choose the most suitable alignment.\n",
    "\n",
    "## Visualize Sentence Alignment\n",
    "\n",
    "To evaluate the final alignment and choose the best way to improve the results of the pipeline, we will create an interactive table with HTML and JS."
   ]
  },
  {
   "cell_type": "code",
   "execution_count": 20,
   "id": "e682adac-48ce-487c-8842-7a31e9515abe",
   "metadata": {},
   "outputs": [],
   "source": [
    "from IPython.display import display, HTML\n",
    "from itertools import zip_longest\n",
    "from io import StringIO\n",
    "\n",
    "\n",
    "def create_interactive_table(\n",
    "    list1: List[str], list2: List[str], mapping: Dict[int, List[int]]\n",
    ") -> str:\n",
    "    def inverse_mapping(mapping):\n",
    "        inverse_map = {idx: [] for idx in range(len(list2))}\n",
    "\n",
    "        for key, values in mapping.items():\n",
    "            for value in values:\n",
    "                inverse_map[value].append(key)\n",
    "\n",
    "        return inverse_map\n",
    "\n",
    "    inversed_mapping = inverse_mapping(mapping)\n",
    "\n",
    "    table_html = StringIO()\n",
    "    table_html.write(\n",
    "        '<table id=\"mappings-table\"><tr><th>Sentences EN</th><th>Sentences DE</th></tr>'\n",
    "    )\n",
    "    for i, (first, second) in enumerate(zip_longest(list1, list2)):\n",
    "        table_html.write(\"<tr>\")\n",
    "        if i < len(list1):\n",
    "            table_html.write(f'<td id=\"list1-{i}\">{first}</td>')\n",
    "        else:\n",
    "            table_html.write(\"<td></td>\")\n",
    "        if i < len(list2):\n",
    "            table_html.write(f'<td id=\"list2-{i}\">{second}</td>')\n",
    "        else:\n",
    "            table_html.write(\"<td></td>\")\n",
    "        table_html.write(\"</tr>\")\n",
    "\n",
    "    table_html.write(\"</table>\")\n",
    "\n",
    "    hover_script = (\n",
    "        \"\"\"\n",
    "    <script type=\"module\">\n",
    "      const highlightColor = '#0054AE';\n",
    "      const textColor = 'white'\n",
    "      const mappings = {\n",
    "        'list1': \"\"\"\n",
    "        + str(mapping)\n",
    "        + \"\"\",\n",
    "        'list2': \"\"\"\n",
    "        + str(inversed_mapping)\n",
    "        + \"\"\"\n",
    "      };\n",
    "\n",
    "      const table = document.getElementById('mappings-table');\n",
    "      let highlightedIds = [];\n",
    "\n",
    "      table.addEventListener('mouseover', ({ target }) => {\n",
    "        if (target.tagName !== 'TD' || !target.id) {\n",
    "          return;\n",
    "        }\n",
    "\n",
    "        const [listName, listId] = target.id.split('-');\n",
    "        const mappedIds = mappings[listName]?.[listId]?.map((id) => `${listName === 'list1' ? 'list2' : 'list1'}-${id}`) || [];\n",
    "        const idsToHighlight = [target.id, ...mappedIds];\n",
    "\n",
    "        setBackgroud(idsToHighlight, highlightColor, textColor);\n",
    "        highlightedIds = idsToHighlight;\n",
    "      });\n",
    "\n",
    "      table.addEventListener('mouseout', () => setBackgroud(highlightedIds, ''));\n",
    "\n",
    "      function setBackgroud(ids, color, text_color=\"unset\") {\n",
    "        ids.forEach((id) => {\n",
    "            document.getElementById(id).style.backgroundColor = color;\n",
    "            document.getElementById(id).style.color = text_color\n",
    "        });\n",
    "      }\n",
    "    </script>\n",
    "    \"\"\"\n",
    "    )\n",
    "    table_html.write(hover_script)\n",
    "    return table_html.getvalue()"
   ]
  },
  {
   "cell_type": "code",
   "execution_count": 21,
   "id": "7bf34413-ae12-49d2-bf36-62d445d01a16",
   "metadata": {},
   "outputs": [
    {
     "data": {
      "text/html": [
       "<table id=\"mappings-table\"><tr><th>Sentences EN</th><th>Sentences DE</th></tr><tr><td id=\"list1-0\">Happy families are all alike; every unhappy family is unhappy in its own way.</td><td id=\"list2-0\">Alle glücklichen Familien sind einander ähnlich; jede unglückliche Familie ist auf hr Weise unglücklich.</td></tr><tr><td id=\"list1-1\">Everything was in confusion in the Oblonskys’ house.</td><td id=\"list2-1\">--</td></tr><tr><td id=\"list1-2\">The wife had discovered that the husband was carrying on an intrigue with a French girl, who had been a governess in their family, and she had announced to her husband that she could not go on living in the same house with him.</td><td id=\"list2-2\">Im Hause der Oblonskiy herrschte allgemeine Verwirrung.</td></tr><tr><td id=\"list1-3\">This position of affairs had now lasted three days, and not only the husband and wife themselves, but all the members of their family and household, were painfully conscious of it.</td><td id=\"list2-3\">Die Dame des Hauses hatte in Erfahrung gebracht, daß ihr Gatte mit der im Hause gewesenen französischen Gouvernante ein Verhältnis unterhalten, und ihm erklärt, sie könne fürderhin nicht mehr mit ihm unter einem Dache bleiben.</td></tr><tr><td id=\"list1-4\">Every person in the house felt that there was no sense in their living together, and that the stray people brought together by chance in any inn had more in common with one another than they, the members of the family and household of the Oblonskys.</td><td id=\"list2-4\">Diese Situation währte bereits seit drei Tagen und sie wurde nicht allein von den beiden Ehegatten selbst, nein auch von allen Familienmitgliedern und dem Personal aufs Peinlichste empfunden.</td></tr><tr><td id=\"list1-5\">The wife did not leave her own room, the husband had not been at home for three days.</td><td id=\"list2-5\">Sie alle fühlten, daß in ihrem Zusammenleben kein höherer Gedanke mehr liege, daß die Leute, welche auf jeder Poststation sich zufällig träfen, noch enger zu einander gehörten, als sie, die Glieder der Familie selbst, und das im Hause geborene und aufgewachsene Gesinde der Oblonskiy.</td></tr><tr><td id=\"list1-6\">The children ran wild all over the house; the English governess quarreled with the housekeeper, and wrote to a friend asking her to look out for a new situation for her; the man-cook had walked off the day before just at dinner time; the kitchen-maid, and the coachman had given warning.</td><td id=\"list2-6\">Die Herrin des Hauses verließ ihre Gemächer nicht, der Gebieter war schon seit drei Tagen abwesend.</td></tr><tr><td id=\"list1-7\">Three days after the quarrel, Prince Stepan Arkadyevitch Oblonsky—Stiva, as he was called in the fashionable world—woke up at his usual hour, that is, at eight o’clock in the morning, not in his wife’s bedroom, but on the leather-covered sofa in his study.</td><td id=\"list2-7\">Die Kinder liefen wie verwaist im ganzen Hause umher, die Engländerin schalt auf die Wirtschafterin und schrieb an eine Freundin, diese möchte ihr eine neue Stellung verschaffen, der Koch hatte bereits seit gestern um die Mittagszeit das Haus verlassen und die Köchin, sowie der Kutscher hatten ihre Rechnungen eingereicht.</td></tr><tr><td id=\"list1-8\">He turned over his stout, well-cared-for person on the springy sofa, as though he would sink into a long sleep again; he vigorously embraced the pillow on the other side and buried his face in it; but all at once he jumped up, sat up on the sofa, and opened his eyes.</td><td id=\"list2-8\">Am dritten Tage nach der Scene erwachte der Fürst Stefan Arkadjewitsch Oblonskiy -- Stiwa hieß er in der Welt -- um die gewöhnliche Stunde, das heißt um acht Uhr morgens, aber nicht im Schlafzimmer seiner Gattin, sondern in seinem Kabinett auf dem Saffiandiwan.</td></tr><tr><td id=\"list1-9\">\"Yes, yes, how was it now?\" he thought, going over his dream.</td><td id=\"list2-9\">Er wandte seinen vollen verweichlichten Leib auf den Sprungfedern des Diwans, als wünsche er noch weiter zu schlafen, während er von der andern Seite innig ein Kissen umfaßte und an die Wange drückte.</td></tr><tr><td id=\"list1-10\">\"Now, how was it? To be sure! Alabin was giving a dinner at Darmstadt; no, not Darmstadt, but something American. Yes, but then, Darmstadt was in America. Yes, Alabin was giving a dinner on glass tables, and the tables sang, l mio tesor—not l mio tesor though, but something better, and there were some sort of little decanters on the table, and they were women, too,\" he remembered.</td><td id=\"list2-10\">Plötzlich aber sprang er empor, setzte sich aufrecht und öffnete die Augen.</td></tr><tr><td id=\"list1-11\">Stepan Arkadyevitch’s eyes twinkled gaily, and he pondered with a smile.</td><td id=\"list2-11\">\"Ja, ja, wie war doch das?\" sann er, über seinem Traum grübelnd.</td></tr><tr><td id=\"list1-12\">\"Yes, it was nice, very nice. There was a great deal more that was delightful, only there’s no putting it into words, or even expressing it in one’s thoughts awake.\"</td><td id=\"list2-12\">\"Wie war doch das?</td></tr><tr><td id=\"list1-13\">And noticing a gleam of light peeping in beside one of the serge curtains, he cheerfully dropped his feet over the edge of the sofa, and felt about with them for his slippers, a present on his last birthday, worked for him by his wife on gold-colored morocco.</td><td id=\"list2-13\">Richtig; Alabin gab ein Diner in Darmstadt; nein, nicht in Darmstadt, es war so etwas Amerikanisches dabei.</td></tr><tr><td id=\"list1-14\">And, as he had done every day for the last nine years, he stretched out his hand, without getting up, towards the place where his dressing-gown always hung in his bedroom.</td><td id=\"list2-14\">Dieses Darmstadt war aber in Amerika, ja, und Alabin gab das Essen auf gläsernen Tischen, ja, und die Tische sangen: Il mio tesoro -- oder nicht so, es war etwas Besseres, und gewisse kleine Karaffen, wie Frauenzimmer aussehend,\" -- fiel ihm ein.</td></tr><tr><td id=\"list1-15\">And thereupon he suddenly remembered that he was not sleeping in his wife’s room, but in his study, and why: the smile vanished from his face, he knitted his brows.</td><td id=\"list2-15\">Die Augen Stefan Arkadjewitschs blitzten heiter, er sann und lächelte.</td></tr><tr><td id=\"list1-16\">\"Ah, ah, ah! Oo!...\" he muttered, recalling everything that had happened.</td><td id=\"list2-16\">\"Ja, es war hübsch, sehr hübsch. Es gab viel Ausgezeichnetes dabei, was man mit Worten nicht schildern könnte und in Gedanken nicht ausdrücken.\"</td></tr><tr><td id=\"list1-17\">And again every detail of his quarrel with his wife was present to his imagination, all the hopelessness of his position, and worst of all, his own fault.</td><td id=\"list2-17\">Er bemerkte einen Lichtstreif, der sich von der Seite durch die baumwollenen Stores gestohlen hatte und schnellte lustig mit den Füßen vom Sofa, um mit ihnen die von seiner Gattin ihm im vorigen Jahr zum Geburtstag verehrten gold- und saffiangestickten Pantoffeln zu suchen; während er, einer alten neunjährigen Gewohnheit folgend, ohne aufzustehen mit der Hand nach der Stelle fuhr, wo in dem Schlafzimmer sonst sein Morgenrock zu hängen pflegte.</td></tr><tr><td id=\"list1-18\">\"Yes, she won’t forgive me, and she can’t forgive me. And the most awful thing about it is that it’s all my fault—all my fault, though I’m not to blame. That’s the point of the whole situation,\" he reflected.</td><td id=\"list2-18\">Hierbei erst kam er zur Besinnung; er entsann sich jäh wie es kam, daß er nicht im Schlafgemach seiner Gattin, sondern in dem Kabinett schlief; das Lächeln verschwand von seinen Zügen und er runzelte die Stirn.</td></tr><tr><td id=\"list1-19\">\"Oh, oh, oh!\" he kept repeating in despair, as he remembered the acutely painful sensations caused him by this quarrel.</td><td id=\"list2-19\">\"O, o, o, ach,\" brach er jammernd aus, indem ihm alles wieder einfiel, was vorgefallen war.</td></tr><tr><td id=\"list1-20\">Most unpleasant of all was the first minute when, on coming, happy and good-humored, from the theater, with a huge pear in his hand for his wife, he had not found his wife in the drawing-room, to his surprise had not found her in the study either, and saw her at last in her bedroom with the unlucky letter that revealed everything in her hand.</td><td id=\"list2-20\">Vor seinem Innern erstanden von neuem alle die Einzelheiten des Auftritts mit seiner Frau, erstand die ganze Mißlichkeit seiner Lage und -- was ihm am peinlichsten war -- seine eigene Schuld.</td></tr><tr><td id=\"list1-21\">She, his Dolly, forever fussing and worrying over household details, and limited in her ideas, as he considered, was sitting perfectly still with the letter in her hand, looking at him with an expression of horror, despair, and indignation.</td><td id=\"list2-21\">\"Ja wohl, sie wird nicht verzeihen, sie kann nicht verzeihen, und am Schrecklichsten ist, daß die Schuld an allem nur ich selbst trage -- ich bin schuld -- aber nicht schuldig!</td></tr><tr><td id=\"list1-22\">\"What’s this? this?\" she asked, pointing to the letter.</td><td id=\"list2-22\">Und hierin liegt das ganze Drama,\" dachte er, \"o weh, o weh!\"</td></tr><tr><td id=\"list1-23\">And at this recollection, Stepan Arkadyevitch, as is so often the case, was not so much annoyed at the fact itself as at the way in which he had met his wife’s words.</td><td id=\"list2-23\">Er sprach voller Verzweiflung, indem er sich alle die tiefen Eindrücke vergegenwärtigte, die er in jener Scene erhalten.</td></tr><tr><td id=\"list1-24\">There happened to him at that instant what does happen to people when they are unexpectedly caught in something very disgraceful.</td><td id=\"list2-24\">Am unerquicklichsten war ihm jene erste Minute gewesen, da er, heiter und zufrieden aus dem Theater heimkehrend, eine ungeheure Birne für seine Frau in der Hand, diese weder im Salon noch im Kabinett fand, und sie endlich im Schlafzimmer antraf, jenen unglückseligen Brief, der alles entdeckte, in den Händen.</td></tr><tr><td id=\"list1-25\">He did not succeed in adapting his face to the position in which he was placed towards his wife by the discovery of his fault.</td><td id=\"list2-25\">Sie, die er für die ewig sorgende, ewig sich mühende, allgegenwärtige Dolly gehalten, sie saß jetzt regungslos, den Brief in der Hand, mit dem Ausdruck des Entsetzens, der Verzweiflung und der Wut ihm entgegenblickend.</td></tr><tr><td id=\"list1-26\">Instead of being hurt, denying, defending himself, begging forgiveness, instead of remaining indifferent even—anything would have been better than what he did do—his face utterly involuntarily (reflex spinal action, reflected Stepan Arkadyevitch, who was fond of physiology)—utterly involuntarily assumed its habitual, good-humored, and therefore idiotic smile.</td><td id=\"list2-26\">\"Was ist das?\" frug sie ihn, auf das Schreiben weisend, und in der Erinnerung hieran quälte ihn, wie das oft zu geschehen pflegt, nicht sowohl der Vorfall selbst, als die Art, wie er ihr auf diese Worte geantwortet hatte.</td></tr><tr><td id=\"list1-27\">This idiotic smile he could not forgive himself.</td><td id=\"list2-27\">Es ging ihm in diesem Augenblick, wie den meisten Menschen, wenn sie unerwartet eines zu schmählichen Vergehens überführt werden.</td></tr><tr><td id=\"list1-28\">Catching sight of that smile, Dolly shuddered as though at physical pain, broke out with her characteristic heat into a flood of cruel words, and rushed out of the room.</td><td id=\"list2-28\">Er verstand nicht, sein Gesicht der Situation anzupassen, in welche er nach der Entdeckung seiner Schuld geraten war, und anstatt den Gekränkten zu spielen, sich zu verteidigen, sich zu rechtfertigen und um Verzeihung zu bitten oder wenigstens gleichmütig zu bleiben -- alles dies wäre noch besser gewesen als das, was er wirklich that -- verzogen sich seine Mienen (\"Gehirnreflexe\" dachte Stefan Arkadjewitsch, als Liebhaber von Physiologie) unwillkürlich und plötzlich zu seinem gewohnten, gutmütigen und daher ziemlich einfältigen Lächeln.</td></tr><tr><td id=\"list1-29\">Since then she had refused to see her husband.</td><td id=\"list2-29\">Dieses dumme Lächeln konnte er sich selbst nicht vergeben.</td></tr><tr><td id=\"list1-30\">\"It’s that idiotic smile that’s to blame for it all,\" thought Stepan Arkadyevitch.</td><td id=\"list2-30\">Als Dolly es gewahrt hatte, erbebte sie, wie von einem physischen Schmerz, und erging sich dann mit der ihr eigenen Leidenschaftlichkeit in einem Strom bitterer Worte, worauf sie das Gemach verließ.</td></tr><tr><td id=\"list1-31\">\"But what’s to be done? What’s to be done?\" he said to himself in despair, and found no answer.</td><td id=\"list2-31\">Von dieser Zeit an wollte sie ihren Gatten nicht mehr sehen.</td></tr><tr><td></td><td id=\"list2-32\">\"An allem ist das dumme Lächeln schuld,\" dachte Stefan Arkadjewitsch.</td></tr><tr><td></td><td id=\"list2-33\">\"Aber was soll ich thun, was soll ich thun?\" frug er voll Verzweiflung sich selbst, ohne eine Antwort zu finden.</td></tr></table>\n",
       "    <script type=\"module\">\n",
       "      const highlightColor = '#0054AE';\n",
       "      const textColor = 'white'\n",
       "      const mappings = {\n",
       "        'list1': {0: [0], 1: [2], 2: [3], 3: [4], 4: [5], 5: [6], 6: [7], 7: [8], 8: [9, 10], 9: [11], 10: [13, 14], 11: [15], 12: [16], 13: [17], 14: [], 15: [18], 16: [19], 17: [20], 18: [21], 19: [23], 20: [24], 21: [25], 22: [26], 23: [], 24: [27], 25: [], 26: [28], 27: [29], 28: [30], 29: [31], 30: [32], 31: [33]},\n",
       "        'list2': {0: [0], 1: [], 2: [1], 3: [2], 4: [3], 5: [4], 6: [5], 7: [6], 8: [7], 9: [8], 10: [8], 11: [9], 12: [], 13: [10], 14: [10], 15: [11], 16: [12], 17: [13], 18: [15], 19: [16], 20: [17], 21: [18], 22: [], 23: [19], 24: [20], 25: [21], 26: [22], 27: [24], 28: [26], 29: [27], 30: [28], 31: [29], 32: [30], 33: [31]}\n",
       "      };\n",
       "\n",
       "      const table = document.getElementById('mappings-table');\n",
       "      let highlightedIds = [];\n",
       "\n",
       "      table.addEventListener('mouseover', ({ target }) => {\n",
       "        if (target.tagName !== 'TD' || !target.id) {\n",
       "          return;\n",
       "        }\n",
       "\n",
       "        const [listName, listId] = target.id.split('-');\n",
       "        const mappedIds = mappings[listName]?.[listId]?.map((id) => `${listName === 'list1' ? 'list2' : 'list1'}-${id}`) || [];\n",
       "        const idsToHighlight = [target.id, ...mappedIds];\n",
       "\n",
       "        setBackgroud(idsToHighlight, highlightColor, textColor);\n",
       "        highlightedIds = idsToHighlight;\n",
       "      });\n",
       "\n",
       "      table.addEventListener('mouseout', () => setBackgroud(highlightedIds, ''));\n",
       "\n",
       "      function setBackgroud(ids, color, text_color=\"unset\") {\n",
       "        ids.forEach((id) => {\n",
       "            document.getElementById(id).style.backgroundColor = color;\n",
       "            document.getElementById(id).style.color = text_color\n",
       "        });\n",
       "      }\n",
       "    </script>\n",
       "    "
      ],
      "text/plain": [
       "<IPython.core.display.HTML object>"
      ]
     },
     "metadata": {},
     "output_type": "display_data"
    }
   ],
   "source": [
    "html_code = create_interactive_table(sentences_en, sentences_de, aligned)\n",
    "display(HTML(html_code))"
   ]
  },
  {
   "cell_type": "markdown",
   "id": "f374e42d-51c5-4fd6-a922-c66fb31f879b",
   "metadata": {},
   "source": [
    "You can see that the pipeline does not fully clean up the German text, resulting in issues like the second sentence consisting of only `--`. On a positive note, the split sentences in the German translation line up correctly with the single English sentence. Overall, the pipeline already works well, but there is still room for improvement.\n",
    "\n",
    "Save the OpenVINO model to disk for future use:"
   ]
  },
  {
   "cell_type": "code",
   "execution_count": 22,
   "id": "bf4c127a-02bd-4488-8797-ea4ca413ee82",
   "metadata": {},
   "outputs": [],
   "source": [
    "from openvino.runtime import serialize\n",
    "\n",
    "\n",
    "ov_model_path = \"ov_model/model.xml\"\n",
    "serialize(ov_model, ov_model_path)"
   ]
  },
  {
   "cell_type": "markdown",
   "id": "fb56f746-ff32-4a9e-be5c-0a4fc59719c9",
   "metadata": {},
   "source": [
    "To read the model from disk, use the `read_model` method of the `Core` object:"
   ]
  },
  {
   "cell_type": "code",
   "execution_count": 23,
   "id": "20e14ba6-70c1-43b1-8f27-7dae9ca32245",
   "metadata": {},
   "outputs": [],
   "source": [
    "ov_model = core.read_model(ov_model_path)"
   ]
  },
  {
   "cell_type": "markdown",
   "id": "3c9c1a74-b4c6-4b65-8a92-346633d12540",
   "metadata": {},
   "source": [
    "## Speed up Embeddings Computation\n",
    "\n",
    "Let's see how we can speed up the most computationally complex part of the pipeline - getting embeddings. You might wonder why, when using OpenVINO, you need to compile the model after reading it. There are two main reasons for this:\n",
    "1. Compatibility with different devices. The model can be compiled to run on a [specific device](https://docs.openvino.ai/2023.0/openvino_docs_OV_UG_Working_with_devices.html), like CPU, GPU or GNA. Each device may work with different data types, support different features, and gain performance by changing the neural network for a specific computing model. With OpenVINO, you do not need to store multiple copies of the network with optimized for different hardware. A universal OpenVINO model representation is enough.\n",
    "1. Optimization for different scenarios. For example, one scenario prioritizes minimizing the _time between starting and finishing model inference_ ([**latency-oriented optimization**](https://docs.openvino.ai/2023.0/openvino_docs_deployment_optimization_guide_latency.html)). In our case, it is more important _how many texts per second the model can process_ ([**throughput-oriented optimization**](https://docs.openvino.ai/2023.0/openvino_docs_deployment_optimization_guide_tput.html)).\n",
    "\n",
    "To get a throughput-optimized model, pass a [performance hint](https://docs.openvino.ai/2023.0/openvino_docs_OV_UG_Performance_Hints.html#performance-hints-latency-and-throughput) as a configuration during compilation. Then OpenVINO selects the optimal parameters for execution on the available hardware."
   ]
  },
  {
   "cell_type": "code",
   "execution_count": 24,
   "id": "b0599ae7-6d1c-437d-9b4e-04f073defdf2",
   "metadata": {},
   "outputs": [],
   "source": [
    "from openvino.runtime import Core, AsyncInferQueue, InferRequest\n",
    "from typing import Any\n",
    "\n",
    "\n",
    "compiled_throughput_hint = core.compile_model(\n",
    "    ov_model,\n",
    "    device_name=\"CPU\",\n",
    "    config={\"PERFORMANCE_HINT\": \"THROUGHPUT\"},\n",
    ")"
   ]
  },
  {
   "cell_type": "markdown",
   "id": "27ca9dfc-9d0d-4d24-b7db-c6958e15c3a8",
   "metadata": {},
   "source": [
    "To further optimize hardware utilization, let's change the inference mode from synchronous (Sync) to asynchronous (Async). While the synchronous API may be easier to start with, it is [recommended](https://docs.openvino.ai/2022.1/openvino_docs_deployment_optimization_guide_common.html#prefer-openvino-async-api) to use the asynchronous (callbacks-based) API in production code. It is the most general and scalable way to implement flow control for any number of requests.\n",
    "\n",
    "To work in asynchronous mode, you need to define two things:\n",
    "\n",
    "1. Instantiate an `AsyncInferQueue`, which can then be populated with inference requests.\n",
    "1. Define a `callback` function that will be called after the output request has been executed and its results have been processed.\n",
    " \n",
    "In addition to the model input, any data required for post-processing can be passed to the queue. We can create a zero embedding matrix in advance and fill it in as the inference requests are executed."
   ]
  },
  {
   "cell_type": "code",
   "execution_count": 25,
   "id": "61371a41-e59d-48ac-9529-86f4852e7817",
   "metadata": {},
   "outputs": [],
   "source": [
    "def get_embeddings_async(sentences: List[str], embedding_model: OVModel) -> np.ndarray:\n",
    "    def callback(infer_request: InferRequest, user_data: List[Any]) -> None:\n",
    "        embeddings, idx, pbar = user_data\n",
    "        embedding = infer_request.get_output_tensor(0).data[0, 0]\n",
    "        embeddings[idx] = embedding\n",
    "        pbar.update()\n",
    "\n",
    "    infer_queue = AsyncInferQueue(embedding_model)\n",
    "    infer_queue.set_callback(callback)\n",
    "\n",
    "    embedding_dim = (\n",
    "        embedding_model.output(0).get_partial_shape().get_dimension(2).get_length()\n",
    "    )\n",
    "    embeddings = np.zeros((len(sentences), embedding_dim))\n",
    "\n",
    "    with tqdm(total=len(sentences), disable=disable_tqdm) as pbar:\n",
    "        for idx, sent in enumerate(sentences):\n",
    "            tokenized = tokenizer(sent, return_tensors=\"np\").data\n",
    "\n",
    "            infer_queue.start_async(tokenized, [embeddings, idx, pbar])\n",
    "\n",
    "        infer_queue.wait_all()\n",
    "\n",
    "    return embeddings"
   ]
  },
  {
   "cell_type": "markdown",
   "id": "4b786808-8cb2-413b-85b0-63291b563743",
   "metadata": {},
   "source": [
    "Let's compare the models and plot the results.\n",
    "\n",
    "> **Note**: To get a more accurate benchmark, use the [Benchmark Python Tool](https://docs.openvino.ai/2023.0/openvino_inference_engine_tools_benchmark_tool_README.html)"
   ]
  },
  {
   "cell_type": "code",
   "execution_count": 26,
   "id": "7b37e15f-df1c-4233-b600-adcb8cf11def",
   "metadata": {},
   "outputs": [
    {
     "data": {
      "application/vnd.jupyter.widget-view+json": {
       "model_id": "611f790d76c9439fb4dae25757340a05",
       "version_major": 2,
       "version_minor": 0
      },
      "text/plain": [
       "  0%|          | 0/3 [00:00<?, ?it/s]"
      ]
     },
     "metadata": {},
     "output_type": "display_data"
    },
    {
     "data": {
      "text/plain": [
       "112"
      ]
     },
     "execution_count": 26,
     "metadata": {},
     "output_type": "execute_result"
    }
   ],
   "source": [
    "number_of_chars = 15_000\n",
    "more_sentences_en = splitter_en.segment(clean_text(anna_karenina_en[:number_of_chars]))\n",
    "len(more_sentences_en)"
   ]
  },
  {
   "cell_type": "code",
   "execution_count": 27,
   "id": "95cd83c2-814b-4e36-9267-5102049f8635",
   "metadata": {},
   "outputs": [
    {
     "data": {
      "application/vnd.jupyter.widget-view+json": {
       "model_id": "",
       "version_major": 2,
       "version_minor": 0
      },
      "text/plain": [
       "  0%|          | 0/3 [00:00<?, ?it/s]"
      ]
     },
     "metadata": {},
     "output_type": "display_data"
    },
    {
     "data": {
      "application/vnd.jupyter.widget-view+json": {
       "model_id": "",
       "version_major": 2,
       "version_minor": 0
      },
      "text/plain": [
       "Benchmark Runs:   0%|          | 0/11 [00:00<?, ?it/s]"
      ]
     },
     "metadata": {},
     "output_type": "display_data"
    },
    {
     "data": {
      "application/vnd.jupyter.widget-view+json": {
       "model_id": "",
       "version_major": 2,
       "version_minor": 0
      },
      "text/plain": [
       "Benchmark Runs:   0%|          | 0/11 [00:00<?, ?it/s]"
      ]
     },
     "metadata": {},
     "output_type": "display_data"
    },
    {
     "data": {
      "application/vnd.jupyter.widget-view+json": {
       "model_id": "",
       "version_major": 2,
       "version_minor": 0
      },
      "text/plain": [
       "Benchmark Runs:   0%|          | 0/11 [00:00<?, ?it/s]"
      ]
     },
     "metadata": {},
     "output_type": "display_data"
    }
   ],
   "source": [
    "import pandas as pd\n",
    "from time import perf_counter\n",
    "\n",
    "\n",
    "benchmarks = [\n",
    "    (pt_model, get_embeddings, \"PyTorch\"),\n",
    "    (compiled_model, get_embeddings, \"OpenVINO\\nSync\"),\n",
    "    (\n",
    "        compiled_throughput_hint,\n",
    "        get_embeddings_async,\n",
    "        \"OpenVINO\\nThroughput Hint\\nAsync\",\n",
    "    ),\n",
    "]\n",
    "\n",
    "number_of_sentences = 100\n",
    "benchmark_data = more_sentences_en[: min(number_of_sentences, len(more_sentences_en))]\n",
    "\n",
    "benchmark_results = {name: [] for *_, name in benchmarks}\n",
    "\n",
    "benchmarks_iterator = tqdm(benchmarks, leave=False, disable=disable_tqdm)\n",
    "for model, func, name in benchmarks_iterator:\n",
    "    printable_name = name.replace(\"\\n\", \" \")\n",
    "    benchmarks_iterator.set_description(f\"Run benchmark for {printable_name} model\")\n",
    "    for run in tqdm(\n",
    "        range(10 + 1), leave=False, desc=\"Benchmark Runs: \", disable=disable_tqdm\n",
    "    ):\n",
    "        with disable_tqdm_context():\n",
    "            start = perf_counter()\n",
    "            func(benchmark_data, model)\n",
    "            end = perf_counter()\n",
    "        benchmark_results[name].append(len(benchmark_data) / (end - start))\n",
    "\n",
    "benchmark_dataframe = pd.DataFrame(benchmark_results)[1:]"
   ]
  },
  {
   "cell_type": "code",
   "execution_count": 28,
   "id": "0df48072-8c81-42e8-9c0c-690b716edd28",
   "metadata": {},
   "outputs": [
    {
     "data": {
      "image/png": "[encoded data removed]",
      "text/plain": [
       "<Figure size 640x480 with 1 Axes>"
      ]
     },
     "metadata": {},
     "output_type": "display_data"
    }
   ],
   "source": [
    "cpu_name = core.get_property(\"CPU\", \"FULL_DEVICE_NAME\")\n",
    "\n",
    "plot = sns.barplot(benchmark_dataframe, errorbar=\"sd\")\n",
    "plot.set(\n",
    "    ylabel=\"Sentences Per Second\", title=f\"Sentence Embeddings Benchmark\\n{cpu_name}\"\n",
    ")\n",
    "perf_ratio = benchmark_dataframe.mean() / benchmark_dataframe.mean()[0]\n",
    "plot.bar_label(\n",
    "    plot.containers[0],\n",
    "    labels=[f\"×{ratio:.2f}\" for ratio in perf_ratio],\n",
    "    color=\"white\",\n",
    "    label_type=\"center\",\n",
    ")\n",
    "plot.spines[\"right\"].set_visible(False)\n",
    "plot.spines[\"top\"].set_visible(False)\n",
    "plot.spines[\"left\"].set_visible(False)"
   ]
  },
  {
   "cell_type": "markdown",
   "id": "b9f566e3-1923-4f94-95c7-60fc5097c37b",
   "metadata": {},
   "source": [
    "On an Intel Core i9-10980XE CPU, the OpenVINO model processed 42% more sentences per second compared with the original PyTorch model. Using Async mode with throughput hint, we get ×3.13 (or 213%) performance boost.\n",
    "\n",
    "Here are useful links with information about the techniques used in this notebook:\n",
    "- [OpenVINO performance hints](https://docs.openvino.ai/2023.0/openvino_docs_OV_UG_Performance_Hints.html)\n",
    "- [OpenVINO Async API](https://docs.openvino.ai/2023.0/openvino_docs_deployment_optimization_guide_common.html#prefer-openvino-async-api)\n",
    "- [Throughput Optimizations](https://docs.openvino.ai/2023.0/openvino_docs_deployment_optimization_guide_tput.html)"
   ]
  }
 ],
 "metadata": {
  "kernelspec": {
   "display_name": "Python 3 (ipykernel)",
   "language": "python",
   "name": "python3"
  },
  "language_info": {
   "codemirror_mode": {
    "name": "ipython",
    "version": 3
   },
   "file_extension": ".py",
   "mimetype": "text/x-python",
   "name": "python",
   "nbconvert_exporter": "python",
   "pygments_lexer": "ipython3",
   "version": "3.10.6"
  }
 },
 "nbformat": 4,
 "nbformat_minor": 5
}
